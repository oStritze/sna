{
 "cells": [
  {
   "cell_type": "markdown",
   "metadata": {},
   "source": [
    "# Event related community changes\n",
    "Communities may change in relation to events. This notebook is looking at event related behaviour, especially in regards to interactions. While considering real life events would be extremely beneficial, due to the limitations of our data (only one month of postings) we need to consider very relevant articles as significant events. This makes sense since they are relevant events in the context of a forum.\n",
    "\n",
    "__Research Question: Is there a correlation between community interactions and events and if so, how can it be quantified?__\n",
    "\n",
    "* TODO\n",
    "    * Find Events\n",
    "    * Look at Interactions in relation to events\n",
    "\n",
    "* IDEAS\n",
    "    * There are 4 communities in the final state. how did they merge over time?"
   ]
  },
  {
   "cell_type": "code",
   "execution_count": 1,
   "metadata": {},
   "outputs": [],
   "source": [
    "# automatically reload imports before executing any line in case you changed something\n",
    "%load_ext autoreload\n",
    "%autoreload 2"
   ]
  },
  {
   "cell_type": "code",
   "execution_count": 2,
   "metadata": {},
   "outputs": [],
   "source": [
    "import utils\n",
    "import read_graph\n",
    "import networkx as nx\n",
    "import pandas as pd\n",
    "import pickle\n",
    "import plotly.express as px\n",
    "import plotly.graph_objs as go\n",
    "import numpy as np\n",
    "from tqdm import tqdm"
   ]
  },
  {
   "cell_type": "markdown",
   "metadata": {},
   "source": [
    "## Load Data"
   ]
  },
  {
   "cell_type": "code",
   "execution_count": 3,
   "metadata": {},
   "outputs": [],
   "source": [
    "all_postings = utils.read_all_postings()\n",
    "all_votes = utils.read_all_votes()"
   ]
  },
  {
   "cell_type": "markdown",
   "metadata": {},
   "source": [
    "## Get Events"
   ]
  },
  {
   "cell_type": "code",
   "execution_count": 4,
   "metadata": {},
   "outputs": [
    {
     "data": {
      "text/plain": [
       "(44,)"
      ]
     },
     "execution_count": 4,
     "metadata": {},
     "output_type": "execute_result"
    }
   ],
   "source": [
    "events = all_postings.groupby(by=['ID_Article', 'ArticlePublishingDate']).count().sort_values(by='ID_Posting', ascending=False)['ID_Posting']\n",
    "qtop = np.quantile(events, 0.99)\n",
    "big_events = events[events > qtop]\n",
    "big_events.shape"
   ]
  },
  {
   "cell_type": "markdown",
   "metadata": {},
   "source": [
    "## Calculate Metrics\n",
    "\n",
    "- For each event (article)  \n",
    "    - For each community  \n",
    "        - calculate community metric  \n",
    "        \n",
    "Then plot each article in order with box plots for community metric"
   ]
  },
  {
   "cell_type": "code",
   "execution_count": 5,
   "metadata": {},
   "outputs": [
    {
     "name": "stderr",
     "output_type": "stream",
     "text": [
      "100%|██████████| 44/44 [13:28<00:00, 18.37s/it]\n"
     ]
    }
   ],
   "source": [
    "result = {}\n",
    "\n",
    "# loop this over all relevant articles!\n",
    "for art_idx in tqdm([x[0] for x in big_events.index]):\n",
    "    posts = all_postings[all_postings.ID_Article == art_idx]\n",
    "    interactions = read_graph.get_all_users_interactions(posts, all_votes, salvage_original_node_ids=True)\n",
    "    communities = utils.get_communities(interactions, min_size=100)\n",
    "    \n",
    "    # for com in communies\n",
    "    com_metrics = []\n",
    "    for com in communities:\n",
    "        com_interactions = interactions.subgraph(com)\n",
    "        metric = len(com_interactions.edges) / len(com_interactions.nodes)\n",
    "        # metric = len(com_interactions.edges)\n",
    "        com_metrics.append(metric)\n",
    "    \n",
    "    result[art_idx] = com_metrics"
   ]
  },
  {
   "cell_type": "code",
   "execution_count": 6,
   "metadata": {},
   "outputs": [],
   "source": [
    "# prepare viz\n",
    "viz_arr = [\n",
    "    (all_postings[all_postings.ID_Article == x]['ArticlePublishingDate'].iloc[0],\n",
    "     np.mean(result[x]), \n",
    "     min(result[x]), \n",
    "     max(result[x]),\n",
    "     all_postings[all_postings.ID_Article == x]['ArticleTitle'].iloc[0])\n",
    "    for x in result.keys() if len(result[x]) > 0]\n",
    "\n",
    "viz_df = pd.DataFrame(viz_arr, columns = ['date', 'mean', 'min', 'max', 'title'])\n",
    "viz_df = viz_df.sort_values(by='date')"
   ]
  },
  {
   "cell_type": "code",
   "execution_count": 15,
   "metadata": {},
   "outputs": [
    {
     "data": {
      "application/vnd.plotly.v1+json": {
       "config": {
        "plotlyServerURL": "https://plot.ly"
       },
       "data": [
        {
         "hovertext": [
          "1. Mai in Wien: SPÖ fordert von Strache Rücktritt",
          "Welcher \"Austausch\" der Bevölkerung in Österreich tatsächlich stattfindet",
          "HTL-Schüler angespuckt: Jugendliche provozierten Lehrer zuvor aggressiv",
          "Warum Rechte die Themen setzen – und Linke sich oft schwertun",
          "Kanzler Kurz springt Gabalier zur Seite, dieser bedankt sich",
          "ORF distanziert sich von Böhmermanns Aussagen im \"Kulturmontag\"",
          "Junge Macho-Migranten in der Schule",
          "Vilimsky finanzierte mit Steuergeld überwiegend plagiierte Studie",
          "\"Debile\": Böhmermann bei Staatsanwaltschaft angezeigt",
          "Wie die Impfpflicht in Österreich aussehen könnte",
          "Kurz will \"Bevormundung\" durch Brüssel beenden und erntet scharfe Kritik",
          "Kurz ist nun ein Antieuropäer",
          "EU-Gerichtshof erschwert Abschiebung straffälliger Flüchtlinge",
          "Nach E-Mail-Kontakt mit Sellner buchte Christchurch-Attentäter Mietauto in Österreich",
          "Ihre schrägsten Öffi-Momente",
          "Strache soll Staatsaufträge für Wahlkampfspenden in Aussicht gestellt haben",
          "Verdecktes Strache-Video auf Ibiza: So besoffen kann keiner sein",
          "Kurz ist mit der FPÖ gescheitert – und will trotzdem unser Vertrauen",
          "Sebastian Kurz hat doch noch das Notwendige getan",
          "Die Drahtzieher hinter dem Strache-Video",
          "Kurz will Entlassung Kickls vorschlagen – Rücktritt aller FPÖ-Regierungsmitglieder droht",
          "Droht Strache und Gudenus Gefängnis?",
          "Die rätselhafte Ruhe des Sebastian Kurz",
          "Kurz droht nach Absetzung Kickls ein Misstrauensantrag",
          "Erste heiße Spur? Wiener Anwalt soll laut Medienbericht Gudenus hereingelegt haben",
          "Dem Expertenkabinett des Kanzlers droht ein schnelles Ende",
          "Weg mit Kurz? Purer Revanchismus der Opposition",
          "Mutmaßlicher Drahtzieher des Ibiza-Videos war in Münchner Anwaltskanzlei Untermieter",
          "Kurz stürzen oder stützen? Was für und was gegen ein Misstrauensvotum spricht",
          "Rendi-Wagner wird an Kurz scheitern",
          "Anwalt eines möglichen Ibiza-Drahtziehers: \"Es war zivilgesellschaftlich motiviertes Projekt\"",
          "Sebastian Kurz: \"Einzelfälle haben mich viel Kraft gekostet\"",
          "Mehrheit der Bevölkerung würde an Regierung Kurz festhalten",
          "Wie hat Österreich gewählt? Das vorläufige Endergebnis",
          "Pamela Rendi-Wagner kann es nicht, Sebastian Kurz kann es zu gut",
          "In der SPÖ rumort es, nicht nur wegen des schlechten Ergebnisses bei der EU-Wahl",
          "Nach Sturz von Kurz: Wien verliert in Brüssel an Bedeutung",
          "Sebastian Kurz: \"SPÖ und FPÖ haben ein gemeinsames Ziel gefunden\"",
          "Kurz geht nicht ins Parlament, er startet seine Wiederauferstehung",
          "Die SPÖ und ihre Kommunikationsprobleme: Leid im Bild",
          "War es von der SPÖ richtig, einen Misstrauensantrag einzubringen?",
          "Van der Bellen schreibt Geschichte – und es ist eine überraschend gute Geschichte",
          "Halbe und andere Wahrheiten von Ex-Kanzler Kurz"
         ],
         "line": {
          "color": "rgb(0,100,80)"
         },
         "mode": "lines",
         "name": "interactions",
         "type": "scatter",
         "x": [
          "2019-05-01 10:28:57.49",
          "2019-05-03 11:45:14.00",
          "2019-05-04 13:20:14.28",
          "2019-05-04 18:00:00.00",
          "2019-05-06 09:32:55.84",
          "2019-05-07 00:25:24.32",
          "2019-05-07 18:23:11.00",
          "2019-05-08 14:00:17.00",
          "2019-05-09 11:23:48.00",
          "2019-05-10 06:00:00.00",
          "2019-05-12 11:01:05.83",
          "2019-05-12 15:44:16.00",
          "2019-05-14 18:21:39.00",
          "2019-05-14 22:28:19.96",
          "2019-05-17 07:00:00.00",
          "2019-05-17 18:19:06.19",
          "2019-05-17 20:19:42.00",
          "2019-05-18 07:43:14.23",
          "2019-05-18 20:22:46.00",
          "2019-05-19 18:41:36.00",
          "2019-05-19 19:01:46.55",
          "2019-05-20 06:00:00.00",
          "2019-05-20 13:59:33.57",
          "2019-05-20 21:46:49.60",
          "2019-05-21 20:52:12.00",
          "2019-05-21 21:15:06.44",
          "2019-05-22 09:15:17.00",
          "2019-05-22 17:48:22.00",
          "2019-05-23 06:00:00.00",
          "2019-05-23 16:21:37.00",
          "2019-05-24 18:05:43.89",
          "2019-05-24 18:10:27.00",
          "2019-05-25 08:00:00.00",
          "2019-05-26 16:59:28.00",
          "2019-05-27 17:34:35.00",
          "2019-05-28 06:00:00.00",
          "2019-05-28 06:00:00.00",
          "2019-05-28 20:00:00.00",
          "2019-05-29 07:52:06.00",
          "2019-05-29 11:06:14.00",
          "2019-05-29 13:50:55.00",
          "2019-05-30 16:22:44.00",
          "2019-05-31 06:00:00.00"
         ],
         "y": [
          4.806245358897755,
          4.785981488744705,
          5.269400630057513,
          4.845144254675305,
          3.5903408020655463,
          3.179840703838858,
          5.580978549634386,
          3.7809315454249024,
          2.6877288922817946,
          4.185902821200369,
          3.8197004600254645,
          3.978933843178906,
          3.6324767348822733,
          3.6027083733498757,
          7.127167706048747,
          4.777549768767479,
          3.637258007787555,
          4.385534604664399,
          4.54329506954229,
          3.2650578332912112,
          4.158369725090103,
          2.762839450538597,
          3.378286260963164,
          4.214523611238425,
          3.2837145197750357,
          4.539851094136701,
          4.115508444293808,
          3.022470871123884,
          4.013496517760532,
          3.443656835687631,
          3.2907729137772597,
          5.033412469645486,
          3.769528555987324,
          3.821548188842334,
          3.915231090770944,
          3.901577680833989,
          4.663015196176646,
          4.416638574976897,
          3.671860732926859,
          3.337490498376281,
          3.2055904888475926,
          4.575655440889436,
          4.166707134580168
         ]
        },
        {
         "fill": "toself",
         "fillcolor": "rgba(0,100,80,0.2)",
         "hoverinfo": "skip",
         "line": {
          "color": "rgba(255,255,255,0)"
         },
         "showlegend": false,
         "type": "scatter",
         "x": [
          "2019-05-01 10:28:57.49",
          "2019-05-03 11:45:14.00",
          "2019-05-04 13:20:14.28",
          "2019-05-04 18:00:00.00",
          "2019-05-06 09:32:55.84",
          "2019-05-07 00:25:24.32",
          "2019-05-07 18:23:11.00",
          "2019-05-08 14:00:17.00",
          "2019-05-09 11:23:48.00",
          "2019-05-10 06:00:00.00",
          "2019-05-12 11:01:05.83",
          "2019-05-12 15:44:16.00",
          "2019-05-14 18:21:39.00",
          "2019-05-14 22:28:19.96",
          "2019-05-17 07:00:00.00",
          "2019-05-17 18:19:06.19",
          "2019-05-17 20:19:42.00",
          "2019-05-18 07:43:14.23",
          "2019-05-18 20:22:46.00",
          "2019-05-19 18:41:36.00",
          "2019-05-19 19:01:46.55",
          "2019-05-20 06:00:00.00",
          "2019-05-20 13:59:33.57",
          "2019-05-20 21:46:49.60",
          "2019-05-21 20:52:12.00",
          "2019-05-21 21:15:06.44",
          "2019-05-22 09:15:17.00",
          "2019-05-22 17:48:22.00",
          "2019-05-23 06:00:00.00",
          "2019-05-23 16:21:37.00",
          "2019-05-24 18:05:43.89",
          "2019-05-24 18:10:27.00",
          "2019-05-25 08:00:00.00",
          "2019-05-26 16:59:28.00",
          "2019-05-27 17:34:35.00",
          "2019-05-28 06:00:00.00",
          "2019-05-28 06:00:00.00",
          "2019-05-28 20:00:00.00",
          "2019-05-29 07:52:06.00",
          "2019-05-29 11:06:14.00",
          "2019-05-29 13:50:55.00",
          "2019-05-30 16:22:44.00",
          "2019-05-31 06:00:00.00",
          "2019-05-31 06:00:00.00",
          "2019-05-30 16:22:44.00",
          "2019-05-29 13:50:55.00",
          "2019-05-29 11:06:14.00",
          "2019-05-29 07:52:06.00",
          "2019-05-28 20:00:00.00",
          "2019-05-28 06:00:00.00",
          "2019-05-28 06:00:00.00",
          "2019-05-27 17:34:35.00",
          "2019-05-26 16:59:28.00",
          "2019-05-25 08:00:00.00",
          "2019-05-24 18:10:27.00",
          "2019-05-24 18:05:43.89",
          "2019-05-23 16:21:37.00",
          "2019-05-23 06:00:00.00",
          "2019-05-22 17:48:22.00",
          "2019-05-22 09:15:17.00",
          "2019-05-21 21:15:06.44",
          "2019-05-21 20:52:12.00",
          "2019-05-20 21:46:49.60",
          "2019-05-20 13:59:33.57",
          "2019-05-20 06:00:00.00",
          "2019-05-19 19:01:46.55",
          "2019-05-19 18:41:36.00",
          "2019-05-18 20:22:46.00",
          "2019-05-18 07:43:14.23",
          "2019-05-17 20:19:42.00",
          "2019-05-17 18:19:06.19",
          "2019-05-17 07:00:00.00",
          "2019-05-14 22:28:19.96",
          "2019-05-14 18:21:39.00",
          "2019-05-12 15:44:16.00",
          "2019-05-12 11:01:05.83",
          "2019-05-10 06:00:00.00",
          "2019-05-09 11:23:48.00",
          "2019-05-08 14:00:17.00",
          "2019-05-07 18:23:11.00",
          "2019-05-07 00:25:24.32",
          "2019-05-06 09:32:55.84",
          "2019-05-04 18:00:00.00",
          "2019-05-04 13:20:14.28",
          "2019-05-03 11:45:14.00",
          "2019-05-01 10:28:57.49"
         ],
         "y": [
          6.038314176245211,
          6.5473684210526315,
          8.386178861788618,
          6.11353711790393,
          5.2631578947368425,
          4.1808219178082195,
          8.18796992481203,
          4.823529411764706,
          4.469798657718121,
          5.99009900990099,
          6.501730103806229,
          6.759124087591241,
          5.245614035087719,
          4.192528735632184,
          10.188311688311689,
          9.173568281938326,
          4.8841807909604515,
          5.598173515981735,
          5.436241610738255,
          4.044303797468355,
          5.697624190064795,
          3.4431818181818183,
          4.524193548387097,
          5.167192429022082,
          4.2981220657277,
          5.415879017013233,
          4.865336658354114,
          3.9010416666666665,
          5.041436464088398,
          4.7414772727272725,
          4.323275862068965,
          7.614035087719298,
          5.426267281105991,
          6.383802816901408,
          4.460714285714285,
          5.363522012578616,
          5.213822894168467,
          6.584699453551913,
          4.609243697478991,
          4.695817490494297,
          4.151785714285714,
          7.973384030418251,
          5.52073732718894,
          1.3333333333333333,
          1.5611353711790392,
          1.8584202682563338,
          2.335483870967742,
          1.6,
          2.746192893401015,
          4.0588235294117645,
          3.110091743119266,
          3.123620309050773,
          2.708955223880597,
          2.7551724137931033,
          2.6616379310344827,
          2.3392857142857144,
          2.601990049751244,
          2.803738317757009,
          2.2838983050847457,
          3.231527093596059,
          3.3218707015130673,
          2.320261437908497,
          3.259765625,
          2.4603174603174605,
          1.962686567164179,
          2.8719512195121952,
          2.314814814814815,
          3.5165562913907285,
          2.9755244755244754,
          2.6064814814814814,
          1.4457186544342508,
          5.096707818930041,
          2.3847780126849893,
          2.5,
          1.4916201117318435,
          1.7828947368421053,
          2.308988764044944,
          1.2943548387096775,
          2.3951612903225805,
          4.0271317829457365,
          2.010989010989011,
          1.9087301587301588,
          2.9734848484848486,
          1.6727272727272726,
          2.223175965665236,
          4.008695652173913
         ]
        }
       ],
       "layout": {
        "hovermode": "x unified",
        "template": {
         "data": {
          "bar": [
           {
            "error_x": {
             "color": "#2a3f5f"
            },
            "error_y": {
             "color": "#2a3f5f"
            },
            "marker": {
             "line": {
              "color": "#E5ECF6",
              "width": 0.5
             }
            },
            "type": "bar"
           }
          ],
          "barpolar": [
           {
            "marker": {
             "line": {
              "color": "#E5ECF6",
              "width": 0.5
             }
            },
            "type": "barpolar"
           }
          ],
          "carpet": [
           {
            "aaxis": {
             "endlinecolor": "#2a3f5f",
             "gridcolor": "white",
             "linecolor": "white",
             "minorgridcolor": "white",
             "startlinecolor": "#2a3f5f"
            },
            "baxis": {
             "endlinecolor": "#2a3f5f",
             "gridcolor": "white",
             "linecolor": "white",
             "minorgridcolor": "white",
             "startlinecolor": "#2a3f5f"
            },
            "type": "carpet"
           }
          ],
          "choropleth": [
           {
            "colorbar": {
             "outlinewidth": 0,
             "ticks": ""
            },
            "type": "choropleth"
           }
          ],
          "contour": [
           {
            "colorbar": {
             "outlinewidth": 0,
             "ticks": ""
            },
            "colorscale": [
             [
              0,
              "#0d0887"
             ],
             [
              0.1111111111111111,
              "#46039f"
             ],
             [
              0.2222222222222222,
              "#7201a8"
             ],
             [
              0.3333333333333333,
              "#9c179e"
             ],
             [
              0.4444444444444444,
              "#bd3786"
             ],
             [
              0.5555555555555556,
              "#d8576b"
             ],
             [
              0.6666666666666666,
              "#ed7953"
             ],
             [
              0.7777777777777778,
              "#fb9f3a"
             ],
             [
              0.8888888888888888,
              "#fdca26"
             ],
             [
              1,
              "#f0f921"
             ]
            ],
            "type": "contour"
           }
          ],
          "contourcarpet": [
           {
            "colorbar": {
             "outlinewidth": 0,
             "ticks": ""
            },
            "type": "contourcarpet"
           }
          ],
          "heatmap": [
           {
            "colorbar": {
             "outlinewidth": 0,
             "ticks": ""
            },
            "colorscale": [
             [
              0,
              "#0d0887"
             ],
             [
              0.1111111111111111,
              "#46039f"
             ],
             [
              0.2222222222222222,
              "#7201a8"
             ],
             [
              0.3333333333333333,
              "#9c179e"
             ],
             [
              0.4444444444444444,
              "#bd3786"
             ],
             [
              0.5555555555555556,
              "#d8576b"
             ],
             [
              0.6666666666666666,
              "#ed7953"
             ],
             [
              0.7777777777777778,
              "#fb9f3a"
             ],
             [
              0.8888888888888888,
              "#fdca26"
             ],
             [
              1,
              "#f0f921"
             ]
            ],
            "type": "heatmap"
           }
          ],
          "heatmapgl": [
           {
            "colorbar": {
             "outlinewidth": 0,
             "ticks": ""
            },
            "colorscale": [
             [
              0,
              "#0d0887"
             ],
             [
              0.1111111111111111,
              "#46039f"
             ],
             [
              0.2222222222222222,
              "#7201a8"
             ],
             [
              0.3333333333333333,
              "#9c179e"
             ],
             [
              0.4444444444444444,
              "#bd3786"
             ],
             [
              0.5555555555555556,
              "#d8576b"
             ],
             [
              0.6666666666666666,
              "#ed7953"
             ],
             [
              0.7777777777777778,
              "#fb9f3a"
             ],
             [
              0.8888888888888888,
              "#fdca26"
             ],
             [
              1,
              "#f0f921"
             ]
            ],
            "type": "heatmapgl"
           }
          ],
          "histogram": [
           {
            "marker": {
             "colorbar": {
              "outlinewidth": 0,
              "ticks": ""
             }
            },
            "type": "histogram"
           }
          ],
          "histogram2d": [
           {
            "colorbar": {
             "outlinewidth": 0,
             "ticks": ""
            },
            "colorscale": [
             [
              0,
              "#0d0887"
             ],
             [
              0.1111111111111111,
              "#46039f"
             ],
             [
              0.2222222222222222,
              "#7201a8"
             ],
             [
              0.3333333333333333,
              "#9c179e"
             ],
             [
              0.4444444444444444,
              "#bd3786"
             ],
             [
              0.5555555555555556,
              "#d8576b"
             ],
             [
              0.6666666666666666,
              "#ed7953"
             ],
             [
              0.7777777777777778,
              "#fb9f3a"
             ],
             [
              0.8888888888888888,
              "#fdca26"
             ],
             [
              1,
              "#f0f921"
             ]
            ],
            "type": "histogram2d"
           }
          ],
          "histogram2dcontour": [
           {
            "colorbar": {
             "outlinewidth": 0,
             "ticks": ""
            },
            "colorscale": [
             [
              0,
              "#0d0887"
             ],
             [
              0.1111111111111111,
              "#46039f"
             ],
             [
              0.2222222222222222,
              "#7201a8"
             ],
             [
              0.3333333333333333,
              "#9c179e"
             ],
             [
              0.4444444444444444,
              "#bd3786"
             ],
             [
              0.5555555555555556,
              "#d8576b"
             ],
             [
              0.6666666666666666,
              "#ed7953"
             ],
             [
              0.7777777777777778,
              "#fb9f3a"
             ],
             [
              0.8888888888888888,
              "#fdca26"
             ],
             [
              1,
              "#f0f921"
             ]
            ],
            "type": "histogram2dcontour"
           }
          ],
          "mesh3d": [
           {
            "colorbar": {
             "outlinewidth": 0,
             "ticks": ""
            },
            "type": "mesh3d"
           }
          ],
          "parcoords": [
           {
            "line": {
             "colorbar": {
              "outlinewidth": 0,
              "ticks": ""
             }
            },
            "type": "parcoords"
           }
          ],
          "pie": [
           {
            "automargin": true,
            "type": "pie"
           }
          ],
          "scatter": [
           {
            "marker": {
             "colorbar": {
              "outlinewidth": 0,
              "ticks": ""
             }
            },
            "type": "scatter"
           }
          ],
          "scatter3d": [
           {
            "line": {
             "colorbar": {
              "outlinewidth": 0,
              "ticks": ""
             }
            },
            "marker": {
             "colorbar": {
              "outlinewidth": 0,
              "ticks": ""
             }
            },
            "type": "scatter3d"
           }
          ],
          "scattercarpet": [
           {
            "marker": {
             "colorbar": {
              "outlinewidth": 0,
              "ticks": ""
             }
            },
            "type": "scattercarpet"
           }
          ],
          "scattergeo": [
           {
            "marker": {
             "colorbar": {
              "outlinewidth": 0,
              "ticks": ""
             }
            },
            "type": "scattergeo"
           }
          ],
          "scattergl": [
           {
            "marker": {
             "colorbar": {
              "outlinewidth": 0,
              "ticks": ""
             }
            },
            "type": "scattergl"
           }
          ],
          "scattermapbox": [
           {
            "marker": {
             "colorbar": {
              "outlinewidth": 0,
              "ticks": ""
             }
            },
            "type": "scattermapbox"
           }
          ],
          "scatterpolar": [
           {
            "marker": {
             "colorbar": {
              "outlinewidth": 0,
              "ticks": ""
             }
            },
            "type": "scatterpolar"
           }
          ],
          "scatterpolargl": [
           {
            "marker": {
             "colorbar": {
              "outlinewidth": 0,
              "ticks": ""
             }
            },
            "type": "scatterpolargl"
           }
          ],
          "scatterternary": [
           {
            "marker": {
             "colorbar": {
              "outlinewidth": 0,
              "ticks": ""
             }
            },
            "type": "scatterternary"
           }
          ],
          "surface": [
           {
            "colorbar": {
             "outlinewidth": 0,
             "ticks": ""
            },
            "colorscale": [
             [
              0,
              "#0d0887"
             ],
             [
              0.1111111111111111,
              "#46039f"
             ],
             [
              0.2222222222222222,
              "#7201a8"
             ],
             [
              0.3333333333333333,
              "#9c179e"
             ],
             [
              0.4444444444444444,
              "#bd3786"
             ],
             [
              0.5555555555555556,
              "#d8576b"
             ],
             [
              0.6666666666666666,
              "#ed7953"
             ],
             [
              0.7777777777777778,
              "#fb9f3a"
             ],
             [
              0.8888888888888888,
              "#fdca26"
             ],
             [
              1,
              "#f0f921"
             ]
            ],
            "type": "surface"
           }
          ],
          "table": [
           {
            "cells": {
             "fill": {
              "color": "#EBF0F8"
             },
             "line": {
              "color": "white"
             }
            },
            "header": {
             "fill": {
              "color": "#C8D4E3"
             },
             "line": {
              "color": "white"
             }
            },
            "type": "table"
           }
          ]
         },
         "layout": {
          "annotationdefaults": {
           "arrowcolor": "#2a3f5f",
           "arrowhead": 0,
           "arrowwidth": 1
          },
          "coloraxis": {
           "colorbar": {
            "outlinewidth": 0,
            "ticks": ""
           }
          },
          "colorscale": {
           "diverging": [
            [
             0,
             "#8e0152"
            ],
            [
             0.1,
             "#c51b7d"
            ],
            [
             0.2,
             "#de77ae"
            ],
            [
             0.3,
             "#f1b6da"
            ],
            [
             0.4,
             "#fde0ef"
            ],
            [
             0.5,
             "#f7f7f7"
            ],
            [
             0.6,
             "#e6f5d0"
            ],
            [
             0.7,
             "#b8e186"
            ],
            [
             0.8,
             "#7fbc41"
            ],
            [
             0.9,
             "#4d9221"
            ],
            [
             1,
             "#276419"
            ]
           ],
           "sequential": [
            [
             0,
             "#0d0887"
            ],
            [
             0.1111111111111111,
             "#46039f"
            ],
            [
             0.2222222222222222,
             "#7201a8"
            ],
            [
             0.3333333333333333,
             "#9c179e"
            ],
            [
             0.4444444444444444,
             "#bd3786"
            ],
            [
             0.5555555555555556,
             "#d8576b"
            ],
            [
             0.6666666666666666,
             "#ed7953"
            ],
            [
             0.7777777777777778,
             "#fb9f3a"
            ],
            [
             0.8888888888888888,
             "#fdca26"
            ],
            [
             1,
             "#f0f921"
            ]
           ],
           "sequentialminus": [
            [
             0,
             "#0d0887"
            ],
            [
             0.1111111111111111,
             "#46039f"
            ],
            [
             0.2222222222222222,
             "#7201a8"
            ],
            [
             0.3333333333333333,
             "#9c179e"
            ],
            [
             0.4444444444444444,
             "#bd3786"
            ],
            [
             0.5555555555555556,
             "#d8576b"
            ],
            [
             0.6666666666666666,
             "#ed7953"
            ],
            [
             0.7777777777777778,
             "#fb9f3a"
            ],
            [
             0.8888888888888888,
             "#fdca26"
            ],
            [
             1,
             "#f0f921"
            ]
           ]
          },
          "colorway": [
           "#636efa",
           "#EF553B",
           "#00cc96",
           "#ab63fa",
           "#FFA15A",
           "#19d3f3",
           "#FF6692",
           "#B6E880",
           "#FF97FF",
           "#FECB52"
          ],
          "font": {
           "color": "#2a3f5f"
          },
          "geo": {
           "bgcolor": "white",
           "lakecolor": "white",
           "landcolor": "#E5ECF6",
           "showlakes": true,
           "showland": true,
           "subunitcolor": "white"
          },
          "hoverlabel": {
           "align": "left"
          },
          "hovermode": "closest",
          "mapbox": {
           "style": "light"
          },
          "paper_bgcolor": "white",
          "plot_bgcolor": "#E5ECF6",
          "polar": {
           "angularaxis": {
            "gridcolor": "white",
            "linecolor": "white",
            "ticks": ""
           },
           "bgcolor": "#E5ECF6",
           "radialaxis": {
            "gridcolor": "white",
            "linecolor": "white",
            "ticks": ""
           }
          },
          "scene": {
           "xaxis": {
            "backgroundcolor": "#E5ECF6",
            "gridcolor": "white",
            "gridwidth": 2,
            "linecolor": "white",
            "showbackground": true,
            "ticks": "",
            "zerolinecolor": "white"
           },
           "yaxis": {
            "backgroundcolor": "#E5ECF6",
            "gridcolor": "white",
            "gridwidth": 2,
            "linecolor": "white",
            "showbackground": true,
            "ticks": "",
            "zerolinecolor": "white"
           },
           "zaxis": {
            "backgroundcolor": "#E5ECF6",
            "gridcolor": "white",
            "gridwidth": 2,
            "linecolor": "white",
            "showbackground": true,
            "ticks": "",
            "zerolinecolor": "white"
           }
          },
          "shapedefaults": {
           "line": {
            "color": "#2a3f5f"
           }
          },
          "ternary": {
           "aaxis": {
            "gridcolor": "white",
            "linecolor": "white",
            "ticks": ""
           },
           "baxis": {
            "gridcolor": "white",
            "linecolor": "white",
            "ticks": ""
           },
           "bgcolor": "#E5ECF6",
           "caxis": {
            "gridcolor": "white",
            "linecolor": "white",
            "ticks": ""
           }
          },
          "title": {
           "x": 0.05
          },
          "xaxis": {
           "automargin": true,
           "gridcolor": "white",
           "linecolor": "white",
           "ticks": "",
           "title": {
            "standoff": 15
           },
           "zerolinecolor": "white",
           "zerolinewidth": 2
          },
          "yaxis": {
           "automargin": true,
           "gridcolor": "white",
           "linecolor": "white",
           "ticks": "",
           "title": {
            "standoff": 15
           },
           "zerolinecolor": "white",
           "zerolinewidth": 2
          }
         }
        },
        "title": {
         "text": "Average Community Interactions"
        },
        "yaxis": {
         "title": {
          "text": "avg interactions/member"
         }
        }
       }
      },
      "text/html": [
       "<div>                            <div id=\"88bd8317-26e7-4701-a0b6-3f7f583c3a60\" class=\"plotly-graph-div\" style=\"height:525px; width:100%;\"></div>            <script type=\"text/javascript\">                require([\"plotly\"], function(Plotly) {                    window.PLOTLYENV=window.PLOTLYENV || {};                                    if (document.getElementById(\"88bd8317-26e7-4701-a0b6-3f7f583c3a60\")) {                    Plotly.newPlot(                        \"88bd8317-26e7-4701-a0b6-3f7f583c3a60\",                        [{\"hovertext\": [\"1. Mai in Wien: SP\\u00d6 fordert von Strache R\\u00fccktritt\", \"Welcher \\\"Austausch\\\" der Bev\\u00f6lkerung in \\u00d6sterreich tats\\u00e4chlich stattfindet\", \"HTL-Sch\\u00fcler angespuckt: Jugendliche provozierten Lehrer zuvor aggressiv\", \"Warum Rechte die Themen setzen \\u2013 und Linke sich oft schwertun\", \"Kanzler Kurz springt Gabalier zur Seite, dieser bedankt sich\", \"ORF distanziert sich von B\\u00f6hmermanns Aussagen im \\\"Kulturmontag\\\"\", \"Junge Macho-Migranten in der Schule\", \"Vilimsky finanzierte mit Steuergeld \\u00fcberwiegend plagiierte Studie\", \"\\\"Debile\\\": B\\u00f6hmermann bei Staatsanwaltschaft angezeigt\", \"Wie die Impfpflicht in \\u00d6sterreich aussehen k\\u00f6nnte\", \"Kurz will \\\"Bevormundung\\\" durch Br\\u00fcssel beenden und erntet scharfe Kritik\", \"Kurz ist nun ein Antieurop\\u00e4er\", \"EU-Gerichtshof erschwert Abschiebung straff\\u00e4lliger Fl\\u00fcchtlinge\", \"Nach E-Mail-Kontakt mit Sellner buchte Christchurch-Attent\\u00e4ter Mietauto in \\u00d6sterreich\", \"Ihre schr\\u00e4gsten \\u00d6ffi-Momente\", \"Strache soll Staatsauftr\\u00e4ge f\\u00fcr Wahlkampfspenden in Aussicht gestellt haben\", \"Verdecktes Strache-Video auf Ibiza: So besoffen kann keiner sein\", \"Kurz ist mit der FP\\u00d6 gescheitert \\u2013 und will trotzdem unser Vertrauen\", \"Sebastian Kurz hat doch noch das Notwendige getan\", \"Die Drahtzieher hinter dem Strache-Video\", \"Kurz will Entlassung Kickls vorschlagen \\u2013 R\\u00fccktritt aller FP\\u00d6-Regierungsmitglieder droht\", \"Droht Strache und Gudenus Gef\\u00e4ngnis?\", \"Die r\\u00e4tselhafte Ruhe des Sebastian Kurz\", \"Kurz droht nach Absetzung Kickls ein Misstrauensantrag\", \"Erste hei\\u00dfe Spur? Wiener Anwalt soll laut Medienbericht Gudenus hereingelegt haben\", \"Dem Expertenkabinett des Kanzlers droht ein schnelles Ende\", \"Weg mit Kurz? Purer Revanchismus der Opposition\", \"Mutma\\u00dflicher Drahtzieher des Ibiza-Videos war in M\\u00fcnchner Anwaltskanzlei Untermieter\", \"Kurz st\\u00fcrzen oder st\\u00fctzen? Was f\\u00fcr und was gegen ein Misstrauensvotum spricht\", \"Rendi-Wagner wird an Kurz scheitern\", \"Anwalt eines m\\u00f6glichen Ibiza-Drahtziehers: \\\"Es war zivilgesellschaftlich motiviertes Projekt\\\"\", \"Sebastian Kurz: \\\"Einzelf\\u00e4lle haben mich viel Kraft gekostet\\\"\", \"Mehrheit der Bev\\u00f6lkerung w\\u00fcrde an Regierung Kurz festhalten\", \"Wie hat \\u00d6sterreich gew\\u00e4hlt? Das vorl\\u00e4ufige Endergebnis\", \"Pamela Rendi-Wagner kann es nicht, Sebastian Kurz kann es zu gut\", \"In der SP\\u00d6 rumort es, nicht nur wegen des schlechten Ergebnisses bei der EU-Wahl\", \"Nach Sturz von Kurz: Wien verliert in Br\\u00fcssel an Bedeutung\", \"Sebastian Kurz: \\\"SP\\u00d6 und FP\\u00d6 haben ein gemeinsames Ziel gefunden\\\"\", \"Kurz geht nicht ins Parlament, er startet seine Wiederauferstehung\", \"Die SP\\u00d6 und ihre Kommunikationsprobleme: Leid im Bild\", \"War es von der SP\\u00d6 richtig, einen Misstrauensantrag einzubringen?\", \"Van der Bellen schreibt Geschichte \\u2013 und es ist eine \\u00fcberraschend gute Geschichte\", \"Halbe und andere Wahrheiten von Ex-Kanzler Kurz\"], \"line\": {\"color\": \"rgb(0,100,80)\"}, \"mode\": \"lines\", \"name\": \"interactions\", \"type\": \"scatter\", \"x\": [\"2019-05-01 10:28:57.49\", \"2019-05-03 11:45:14.00\", \"2019-05-04 13:20:14.28\", \"2019-05-04 18:00:00.00\", \"2019-05-06 09:32:55.84\", \"2019-05-07 00:25:24.32\", \"2019-05-07 18:23:11.00\", \"2019-05-08 14:00:17.00\", \"2019-05-09 11:23:48.00\", \"2019-05-10 06:00:00.00\", \"2019-05-12 11:01:05.83\", \"2019-05-12 15:44:16.00\", \"2019-05-14 18:21:39.00\", \"2019-05-14 22:28:19.96\", \"2019-05-17 07:00:00.00\", \"2019-05-17 18:19:06.19\", \"2019-05-17 20:19:42.00\", \"2019-05-18 07:43:14.23\", \"2019-05-18 20:22:46.00\", \"2019-05-19 18:41:36.00\", \"2019-05-19 19:01:46.55\", \"2019-05-20 06:00:00.00\", \"2019-05-20 13:59:33.57\", \"2019-05-20 21:46:49.60\", \"2019-05-21 20:52:12.00\", \"2019-05-21 21:15:06.44\", \"2019-05-22 09:15:17.00\", \"2019-05-22 17:48:22.00\", \"2019-05-23 06:00:00.00\", \"2019-05-23 16:21:37.00\", \"2019-05-24 18:05:43.89\", \"2019-05-24 18:10:27.00\", \"2019-05-25 08:00:00.00\", \"2019-05-26 16:59:28.00\", \"2019-05-27 17:34:35.00\", \"2019-05-28 06:00:00.00\", \"2019-05-28 06:00:00.00\", \"2019-05-28 20:00:00.00\", \"2019-05-29 07:52:06.00\", \"2019-05-29 11:06:14.00\", \"2019-05-29 13:50:55.00\", \"2019-05-30 16:22:44.00\", \"2019-05-31 06:00:00.00\"], \"y\": [4.806245358897755, 4.785981488744705, 5.269400630057513, 4.845144254675305, 3.5903408020655463, 3.179840703838858, 5.580978549634386, 3.7809315454249024, 2.6877288922817946, 4.185902821200369, 3.8197004600254645, 3.978933843178906, 3.6324767348822733, 3.6027083733498757, 7.127167706048747, 4.777549768767479, 3.637258007787555, 4.385534604664399, 4.54329506954229, 3.2650578332912112, 4.158369725090103, 2.762839450538597, 3.378286260963164, 4.214523611238425, 3.2837145197750357, 4.539851094136701, 4.115508444293808, 3.022470871123884, 4.013496517760532, 3.443656835687631, 3.2907729137772597, 5.033412469645486, 3.769528555987324, 3.821548188842334, 3.915231090770944, 3.901577680833989, 4.663015196176646, 4.416638574976897, 3.671860732926859, 3.337490498376281, 3.2055904888475926, 4.575655440889436, 4.166707134580168]}, {\"fill\": \"toself\", \"fillcolor\": \"rgba(0,100,80,0.2)\", \"hoverinfo\": \"skip\", \"line\": {\"color\": \"rgba(255,255,255,0)\"}, \"showlegend\": false, \"type\": \"scatter\", \"x\": [\"2019-05-01 10:28:57.49\", \"2019-05-03 11:45:14.00\", \"2019-05-04 13:20:14.28\", \"2019-05-04 18:00:00.00\", \"2019-05-06 09:32:55.84\", \"2019-05-07 00:25:24.32\", \"2019-05-07 18:23:11.00\", \"2019-05-08 14:00:17.00\", \"2019-05-09 11:23:48.00\", \"2019-05-10 06:00:00.00\", \"2019-05-12 11:01:05.83\", \"2019-05-12 15:44:16.00\", \"2019-05-14 18:21:39.00\", \"2019-05-14 22:28:19.96\", \"2019-05-17 07:00:00.00\", \"2019-05-17 18:19:06.19\", \"2019-05-17 20:19:42.00\", \"2019-05-18 07:43:14.23\", \"2019-05-18 20:22:46.00\", \"2019-05-19 18:41:36.00\", \"2019-05-19 19:01:46.55\", \"2019-05-20 06:00:00.00\", \"2019-05-20 13:59:33.57\", \"2019-05-20 21:46:49.60\", \"2019-05-21 20:52:12.00\", \"2019-05-21 21:15:06.44\", \"2019-05-22 09:15:17.00\", \"2019-05-22 17:48:22.00\", \"2019-05-23 06:00:00.00\", \"2019-05-23 16:21:37.00\", \"2019-05-24 18:05:43.89\", \"2019-05-24 18:10:27.00\", \"2019-05-25 08:00:00.00\", \"2019-05-26 16:59:28.00\", \"2019-05-27 17:34:35.00\", \"2019-05-28 06:00:00.00\", \"2019-05-28 06:00:00.00\", \"2019-05-28 20:00:00.00\", \"2019-05-29 07:52:06.00\", \"2019-05-29 11:06:14.00\", \"2019-05-29 13:50:55.00\", \"2019-05-30 16:22:44.00\", \"2019-05-31 06:00:00.00\", \"2019-05-31 06:00:00.00\", \"2019-05-30 16:22:44.00\", \"2019-05-29 13:50:55.00\", \"2019-05-29 11:06:14.00\", \"2019-05-29 07:52:06.00\", \"2019-05-28 20:00:00.00\", \"2019-05-28 06:00:00.00\", \"2019-05-28 06:00:00.00\", \"2019-05-27 17:34:35.00\", \"2019-05-26 16:59:28.00\", \"2019-05-25 08:00:00.00\", \"2019-05-24 18:10:27.00\", \"2019-05-24 18:05:43.89\", \"2019-05-23 16:21:37.00\", \"2019-05-23 06:00:00.00\", \"2019-05-22 17:48:22.00\", \"2019-05-22 09:15:17.00\", \"2019-05-21 21:15:06.44\", \"2019-05-21 20:52:12.00\", \"2019-05-20 21:46:49.60\", \"2019-05-20 13:59:33.57\", \"2019-05-20 06:00:00.00\", \"2019-05-19 19:01:46.55\", \"2019-05-19 18:41:36.00\", \"2019-05-18 20:22:46.00\", \"2019-05-18 07:43:14.23\", \"2019-05-17 20:19:42.00\", \"2019-05-17 18:19:06.19\", \"2019-05-17 07:00:00.00\", \"2019-05-14 22:28:19.96\", \"2019-05-14 18:21:39.00\", \"2019-05-12 15:44:16.00\", \"2019-05-12 11:01:05.83\", \"2019-05-10 06:00:00.00\", \"2019-05-09 11:23:48.00\", \"2019-05-08 14:00:17.00\", \"2019-05-07 18:23:11.00\", \"2019-05-07 00:25:24.32\", \"2019-05-06 09:32:55.84\", \"2019-05-04 18:00:00.00\", \"2019-05-04 13:20:14.28\", \"2019-05-03 11:45:14.00\", \"2019-05-01 10:28:57.49\"], \"y\": [6.038314176245211, 6.5473684210526315, 8.386178861788618, 6.11353711790393, 5.2631578947368425, 4.1808219178082195, 8.18796992481203, 4.823529411764706, 4.469798657718121, 5.99009900990099, 6.501730103806229, 6.759124087591241, 5.245614035087719, 4.192528735632184, 10.188311688311689, 9.173568281938326, 4.8841807909604515, 5.598173515981735, 5.436241610738255, 4.044303797468355, 5.697624190064795, 3.4431818181818183, 4.524193548387097, 5.167192429022082, 4.2981220657277, 5.415879017013233, 4.865336658354114, 3.9010416666666665, 5.041436464088398, 4.7414772727272725, 4.323275862068965, 7.614035087719298, 5.426267281105991, 6.383802816901408, 4.460714285714285, 5.363522012578616, 5.213822894168467, 6.584699453551913, 4.609243697478991, 4.695817490494297, 4.151785714285714, 7.973384030418251, 5.52073732718894, 1.3333333333333333, 1.5611353711790392, 1.8584202682563338, 2.335483870967742, 1.6, 2.746192893401015, 4.0588235294117645, 3.110091743119266, 3.123620309050773, 2.708955223880597, 2.7551724137931033, 2.6616379310344827, 2.3392857142857144, 2.601990049751244, 2.803738317757009, 2.2838983050847457, 3.231527093596059, 3.3218707015130673, 2.320261437908497, 3.259765625, 2.4603174603174605, 1.962686567164179, 2.8719512195121952, 2.314814814814815, 3.5165562913907285, 2.9755244755244754, 2.6064814814814814, 1.4457186544342508, 5.096707818930041, 2.3847780126849893, 2.5, 1.4916201117318435, 1.7828947368421053, 2.308988764044944, 1.2943548387096775, 2.3951612903225805, 4.0271317829457365, 2.010989010989011, 1.9087301587301588, 2.9734848484848486, 1.6727272727272726, 2.223175965665236, 4.008695652173913]}],                        {\"hovermode\": \"x unified\", \"template\": {\"data\": {\"bar\": [{\"error_x\": {\"color\": \"#2a3f5f\"}, \"error_y\": {\"color\": \"#2a3f5f\"}, \"marker\": {\"line\": {\"color\": \"#E5ECF6\", \"width\": 0.5}}, \"type\": \"bar\"}], \"barpolar\": [{\"marker\": {\"line\": {\"color\": \"#E5ECF6\", \"width\": 0.5}}, \"type\": \"barpolar\"}], \"carpet\": [{\"aaxis\": {\"endlinecolor\": \"#2a3f5f\", \"gridcolor\": \"white\", \"linecolor\": \"white\", \"minorgridcolor\": \"white\", \"startlinecolor\": \"#2a3f5f\"}, \"baxis\": {\"endlinecolor\": \"#2a3f5f\", \"gridcolor\": \"white\", \"linecolor\": \"white\", \"minorgridcolor\": \"white\", \"startlinecolor\": \"#2a3f5f\"}, \"type\": \"carpet\"}], \"choropleth\": [{\"colorbar\": {\"outlinewidth\": 0, \"ticks\": \"\"}, \"type\": \"choropleth\"}], \"contour\": [{\"colorbar\": {\"outlinewidth\": 0, \"ticks\": \"\"}, \"colorscale\": [[0.0, \"#0d0887\"], [0.1111111111111111, \"#46039f\"], [0.2222222222222222, \"#7201a8\"], [0.3333333333333333, \"#9c179e\"], [0.4444444444444444, \"#bd3786\"], [0.5555555555555556, \"#d8576b\"], [0.6666666666666666, \"#ed7953\"], [0.7777777777777778, \"#fb9f3a\"], [0.8888888888888888, \"#fdca26\"], [1.0, \"#f0f921\"]], \"type\": \"contour\"}], \"contourcarpet\": [{\"colorbar\": {\"outlinewidth\": 0, \"ticks\": \"\"}, \"type\": \"contourcarpet\"}], \"heatmap\": [{\"colorbar\": {\"outlinewidth\": 0, \"ticks\": \"\"}, \"colorscale\": [[0.0, \"#0d0887\"], [0.1111111111111111, \"#46039f\"], [0.2222222222222222, \"#7201a8\"], [0.3333333333333333, \"#9c179e\"], [0.4444444444444444, \"#bd3786\"], [0.5555555555555556, \"#d8576b\"], [0.6666666666666666, \"#ed7953\"], [0.7777777777777778, \"#fb9f3a\"], [0.8888888888888888, \"#fdca26\"], [1.0, \"#f0f921\"]], \"type\": \"heatmap\"}], \"heatmapgl\": [{\"colorbar\": {\"outlinewidth\": 0, \"ticks\": \"\"}, \"colorscale\": [[0.0, \"#0d0887\"], [0.1111111111111111, \"#46039f\"], [0.2222222222222222, \"#7201a8\"], [0.3333333333333333, \"#9c179e\"], [0.4444444444444444, \"#bd3786\"], [0.5555555555555556, \"#d8576b\"], [0.6666666666666666, \"#ed7953\"], [0.7777777777777778, \"#fb9f3a\"], [0.8888888888888888, \"#fdca26\"], [1.0, \"#f0f921\"]], \"type\": \"heatmapgl\"}], \"histogram\": [{\"marker\": {\"colorbar\": {\"outlinewidth\": 0, \"ticks\": \"\"}}, \"type\": \"histogram\"}], \"histogram2d\": [{\"colorbar\": {\"outlinewidth\": 0, \"ticks\": \"\"}, \"colorscale\": [[0.0, \"#0d0887\"], [0.1111111111111111, \"#46039f\"], [0.2222222222222222, \"#7201a8\"], [0.3333333333333333, \"#9c179e\"], [0.4444444444444444, \"#bd3786\"], [0.5555555555555556, \"#d8576b\"], [0.6666666666666666, \"#ed7953\"], [0.7777777777777778, \"#fb9f3a\"], [0.8888888888888888, \"#fdca26\"], [1.0, \"#f0f921\"]], \"type\": \"histogram2d\"}], \"histogram2dcontour\": [{\"colorbar\": {\"outlinewidth\": 0, \"ticks\": \"\"}, \"colorscale\": [[0.0, \"#0d0887\"], [0.1111111111111111, \"#46039f\"], [0.2222222222222222, \"#7201a8\"], [0.3333333333333333, \"#9c179e\"], [0.4444444444444444, \"#bd3786\"], [0.5555555555555556, \"#d8576b\"], [0.6666666666666666, \"#ed7953\"], [0.7777777777777778, \"#fb9f3a\"], [0.8888888888888888, \"#fdca26\"], [1.0, \"#f0f921\"]], \"type\": \"histogram2dcontour\"}], \"mesh3d\": [{\"colorbar\": {\"outlinewidth\": 0, \"ticks\": \"\"}, \"type\": \"mesh3d\"}], \"parcoords\": [{\"line\": {\"colorbar\": {\"outlinewidth\": 0, \"ticks\": \"\"}}, \"type\": \"parcoords\"}], \"pie\": [{\"automargin\": true, \"type\": \"pie\"}], \"scatter\": [{\"marker\": {\"colorbar\": {\"outlinewidth\": 0, \"ticks\": \"\"}}, \"type\": \"scatter\"}], \"scatter3d\": [{\"line\": {\"colorbar\": {\"outlinewidth\": 0, \"ticks\": \"\"}}, \"marker\": {\"colorbar\": {\"outlinewidth\": 0, \"ticks\": \"\"}}, \"type\": \"scatter3d\"}], \"scattercarpet\": [{\"marker\": {\"colorbar\": {\"outlinewidth\": 0, \"ticks\": \"\"}}, \"type\": \"scattercarpet\"}], \"scattergeo\": [{\"marker\": {\"colorbar\": {\"outlinewidth\": 0, \"ticks\": \"\"}}, \"type\": \"scattergeo\"}], \"scattergl\": [{\"marker\": {\"colorbar\": {\"outlinewidth\": 0, \"ticks\": \"\"}}, \"type\": \"scattergl\"}], \"scattermapbox\": [{\"marker\": {\"colorbar\": {\"outlinewidth\": 0, \"ticks\": \"\"}}, \"type\": \"scattermapbox\"}], \"scatterpolar\": [{\"marker\": {\"colorbar\": {\"outlinewidth\": 0, \"ticks\": \"\"}}, \"type\": \"scatterpolar\"}], \"scatterpolargl\": [{\"marker\": {\"colorbar\": {\"outlinewidth\": 0, \"ticks\": \"\"}}, \"type\": \"scatterpolargl\"}], \"scatterternary\": [{\"marker\": {\"colorbar\": {\"outlinewidth\": 0, \"ticks\": \"\"}}, \"type\": \"scatterternary\"}], \"surface\": [{\"colorbar\": {\"outlinewidth\": 0, \"ticks\": \"\"}, \"colorscale\": [[0.0, \"#0d0887\"], [0.1111111111111111, \"#46039f\"], [0.2222222222222222, \"#7201a8\"], [0.3333333333333333, \"#9c179e\"], [0.4444444444444444, \"#bd3786\"], [0.5555555555555556, \"#d8576b\"], [0.6666666666666666, \"#ed7953\"], [0.7777777777777778, \"#fb9f3a\"], [0.8888888888888888, \"#fdca26\"], [1.0, \"#f0f921\"]], \"type\": \"surface\"}], \"table\": [{\"cells\": {\"fill\": {\"color\": \"#EBF0F8\"}, \"line\": {\"color\": \"white\"}}, \"header\": {\"fill\": {\"color\": \"#C8D4E3\"}, \"line\": {\"color\": \"white\"}}, \"type\": \"table\"}]}, \"layout\": {\"annotationdefaults\": {\"arrowcolor\": \"#2a3f5f\", \"arrowhead\": 0, \"arrowwidth\": 1}, \"coloraxis\": {\"colorbar\": {\"outlinewidth\": 0, \"ticks\": \"\"}}, \"colorscale\": {\"diverging\": [[0, \"#8e0152\"], [0.1, \"#c51b7d\"], [0.2, \"#de77ae\"], [0.3, \"#f1b6da\"], [0.4, \"#fde0ef\"], [0.5, \"#f7f7f7\"], [0.6, \"#e6f5d0\"], [0.7, \"#b8e186\"], [0.8, \"#7fbc41\"], [0.9, \"#4d9221\"], [1, \"#276419\"]], \"sequential\": [[0.0, \"#0d0887\"], [0.1111111111111111, \"#46039f\"], [0.2222222222222222, \"#7201a8\"], [0.3333333333333333, \"#9c179e\"], [0.4444444444444444, \"#bd3786\"], [0.5555555555555556, \"#d8576b\"], [0.6666666666666666, \"#ed7953\"], [0.7777777777777778, \"#fb9f3a\"], [0.8888888888888888, \"#fdca26\"], [1.0, \"#f0f921\"]], \"sequentialminus\": [[0.0, \"#0d0887\"], [0.1111111111111111, \"#46039f\"], [0.2222222222222222, \"#7201a8\"], [0.3333333333333333, \"#9c179e\"], [0.4444444444444444, \"#bd3786\"], [0.5555555555555556, \"#d8576b\"], [0.6666666666666666, \"#ed7953\"], [0.7777777777777778, \"#fb9f3a\"], [0.8888888888888888, \"#fdca26\"], [1.0, \"#f0f921\"]]}, \"colorway\": [\"#636efa\", \"#EF553B\", \"#00cc96\", \"#ab63fa\", \"#FFA15A\", \"#19d3f3\", \"#FF6692\", \"#B6E880\", \"#FF97FF\", \"#FECB52\"], \"font\": {\"color\": \"#2a3f5f\"}, \"geo\": {\"bgcolor\": \"white\", \"lakecolor\": \"white\", \"landcolor\": \"#E5ECF6\", \"showlakes\": true, \"showland\": true, \"subunitcolor\": \"white\"}, \"hoverlabel\": {\"align\": \"left\"}, \"hovermode\": \"closest\", \"mapbox\": {\"style\": \"light\"}, \"paper_bgcolor\": \"white\", \"plot_bgcolor\": \"#E5ECF6\", \"polar\": {\"angularaxis\": {\"gridcolor\": \"white\", \"linecolor\": \"white\", \"ticks\": \"\"}, \"bgcolor\": \"#E5ECF6\", \"radialaxis\": {\"gridcolor\": \"white\", \"linecolor\": \"white\", \"ticks\": \"\"}}, \"scene\": {\"xaxis\": {\"backgroundcolor\": \"#E5ECF6\", \"gridcolor\": \"white\", \"gridwidth\": 2, \"linecolor\": \"white\", \"showbackground\": true, \"ticks\": \"\", \"zerolinecolor\": \"white\"}, \"yaxis\": {\"backgroundcolor\": \"#E5ECF6\", \"gridcolor\": \"white\", \"gridwidth\": 2, \"linecolor\": \"white\", \"showbackground\": true, \"ticks\": \"\", \"zerolinecolor\": \"white\"}, \"zaxis\": {\"backgroundcolor\": \"#E5ECF6\", \"gridcolor\": \"white\", \"gridwidth\": 2, \"linecolor\": \"white\", \"showbackground\": true, \"ticks\": \"\", \"zerolinecolor\": \"white\"}}, \"shapedefaults\": {\"line\": {\"color\": \"#2a3f5f\"}}, \"ternary\": {\"aaxis\": {\"gridcolor\": \"white\", \"linecolor\": \"white\", \"ticks\": \"\"}, \"baxis\": {\"gridcolor\": \"white\", \"linecolor\": \"white\", \"ticks\": \"\"}, \"bgcolor\": \"#E5ECF6\", \"caxis\": {\"gridcolor\": \"white\", \"linecolor\": \"white\", \"ticks\": \"\"}}, \"title\": {\"x\": 0.05}, \"xaxis\": {\"automargin\": true, \"gridcolor\": \"white\", \"linecolor\": \"white\", \"ticks\": \"\", \"title\": {\"standoff\": 15}, \"zerolinecolor\": \"white\", \"zerolinewidth\": 2}, \"yaxis\": {\"automargin\": true, \"gridcolor\": \"white\", \"linecolor\": \"white\", \"ticks\": \"\", \"title\": {\"standoff\": 15}, \"zerolinecolor\": \"white\", \"zerolinewidth\": 2}}}, \"title\": {\"text\": \"Average Community Interactions\"}, \"yaxis\": {\"title\": {\"text\": \"avg interactions/member\"}}},                        {\"responsive\": true}                    ).then(function(){\n",
       "                            \n",
       "var gd = document.getElementById('88bd8317-26e7-4701-a0b6-3f7f583c3a60');\n",
       "var x = new MutationObserver(function (mutations, observer) {{\n",
       "        var display = window.getComputedStyle(gd).display;\n",
       "        if (!display || display === 'none') {{\n",
       "            console.log([gd, 'removed!']);\n",
       "            Plotly.purge(gd);\n",
       "            observer.disconnect();\n",
       "        }}\n",
       "}});\n",
       "\n",
       "// Listen for the removal of the full notebook cells\n",
       "var notebookContainer = gd.closest('#notebook-container');\n",
       "if (notebookContainer) {{\n",
       "    x.observe(notebookContainer, {childList: true});\n",
       "}}\n",
       "\n",
       "// Listen for the clearing of the current output cell\n",
       "var outputEl = gd.closest('.output');\n",
       "if (outputEl) {{\n",
       "    x.observe(outputEl, {childList: true});\n",
       "}}\n",
       "\n",
       "                        })                };                });            </script>        </div>"
      ]
     },
     "metadata": {},
     "output_type": "display_data"
    }
   ],
   "source": [
    "# visualize\n",
    "x = list(viz_df['date'])\n",
    "y = list(viz_df['mean'])\n",
    "y_upper = list(viz_df['max'])\n",
    "y_lower = list(viz_df['min'])\n",
    "titles = list(viz_df['title'])\n",
    "\n",
    "fig = go.Figure([\n",
    "    go.Scatter(\n",
    "        x=x,\n",
    "        y=y,\n",
    "        line=dict(color='rgb(0,100,80)'),\n",
    "        mode='lines',\n",
    "        name='interactions',\n",
    "        hovertext = titles\n",
    "    ),\n",
    "    go.Scatter(\n",
    "        x=x+x[::-1], # x, then x reversed\n",
    "        y=y_upper+y_lower[::-1], # upper, then lower reversed\n",
    "        fill='toself',\n",
    "        fillcolor='rgba(0,100,80,0.2)',\n",
    "        line=dict(color='rgba(255,255,255,0)'),\n",
    "        hoverinfo='skip',\n",
    "        showlegend=False\n",
    "    )\n",
    "])\n",
    "\n",
    "fig.update_layout(\n",
    "    yaxis_title='avg interactions/member',\n",
    "    title='Average Community Interactions',\n",
    "    hovermode='x unified'\n",
    ")\n",
    "\n",
    "fig.show()"
   ]
  }
 ],
 "metadata": {
  "kernelspec": {
   "display_name": "Python 3",
   "language": "python",
   "name": "python3"
  },
  "language_info": {
   "codemirror_mode": {
    "name": "ipython",
    "version": 3
   },
   "file_extension": ".py",
   "mimetype": "text/x-python",
   "name": "python",
   "nbconvert_exporter": "python",
   "pygments_lexer": "ipython3",
   "version": "3.8.5"
  }
 },
 "nbformat": 4,
 "nbformat_minor": 4
}
