{
 "cells": [
  {
   "cell_type": "markdown",
   "metadata": {},
   "source": [
    "# Ibizagate\n",
    "\n",
    "compare ibiza relevant articles to other articles, look at differences in #interactions and activity (out_degrees) \n",
    "\n",
    "__Question: Is there a correlation between the de/in-crease of metrics and the distance to an event (ibizagate)?__\n",
    "\n",
    "metrics:\n",
    "* interactions\n",
    "* activity (out_degrees)\n",
    "* centrality TODO"
   ]
  },
  {
   "cell_type": "code",
   "execution_count": 1,
   "metadata": {},
   "outputs": [],
   "source": [
    "# automatically reload imports before executing any line in case you changed something\n",
    "%load_ext autoreload\n",
    "%autoreload 2"
   ]
  },
  {
   "cell_type": "code",
   "execution_count": 99,
   "metadata": {},
   "outputs": [],
   "source": [
    "import utils\n",
    "import read_graph\n",
    "import networkx as nx\n",
    "import pandas as pd\n",
    "import pickle\n",
    "import plotly.express as px\n",
    "import plotly.graph_objs as go\n",
    "import numpy as np\n",
    "from tqdm import tqdm\n",
    "from random import sample "
   ]
  },
  {
   "cell_type": "markdown",
   "metadata": {},
   "source": [
    "## Load Data"
   ]
  },
  {
   "cell_type": "code",
   "execution_count": 3,
   "metadata": {},
   "outputs": [],
   "source": [
    "all_postings = utils.read_all_postings()\n",
    "all_votes = utils.read_all_votes()"
   ]
  },
  {
   "cell_type": "markdown",
   "metadata": {},
   "source": [
    "## Filter for relevant posts\n",
    "\n",
    "* ArticleRessort == FPÖ\n",
    "* Title contains FPÖ\n",
    "* Title contains Strache\n",
    "* Title contains Ibiza"
   ]
  },
  {
   "cell_type": "code",
   "execution_count": 86,
   "metadata": {},
   "outputs": [
    {
     "name": "stdout",
     "output_type": "stream",
     "text": [
      "(739094, 14) (80413, 14) (658681, 14)\n",
      "(136,) (4215,)\n"
     ]
    }
   ],
   "source": [
    "selection = (\n",
    "(all_postings.ArticleRessortName == 'FPÖ') |\n",
    "(all_postings['ArticleTitle'].str.contains('Ibiza', regex=False)) |\n",
    "(all_postings['ArticleTitle'].str.contains('ibiza', regex=False)) |\n",
    "(all_postings['ArticleTitle'].str.contains('Strache', regex=False)))\n",
    "\n",
    "# posts\n",
    "relevant_posts = all_postings[selection]\n",
    "irrelevant_posts = all_postings[[not x for x in selection]]\n",
    "print(all_postings.shape, relevant_posts.shape, irrelevant_posts.shape)\n",
    "\n",
    "# group for articles\n",
    "relevant_articles = relevant_posts.groupby(by=['ID_Article', 'ArticlePublishingDate']).count().sort_values(by='ID_Posting', ascending=False)['ID_Posting']\n",
    "irrelevant_articles = irrelevant_posts.groupby(by=['ID_Article', 'ArticlePublishingDate']).count().sort_values(by='ID_Posting', ascending=False)['ID_Posting']\n",
    "print(relevant_articles.shape, irrelevant_articles.shape)"
   ]
  },
  {
   "cell_type": "markdown",
   "metadata": {},
   "source": [
    "## Calculate Metrics"
   ]
  },
  {
   "cell_type": "markdown",
   "metadata": {},
   "source": [
    "### relevant articles"
   ]
  },
  {
   "cell_type": "code",
   "execution_count": 67,
   "metadata": {},
   "outputs": [
    {
     "name": "stderr",
     "output_type": "stream",
     "text": [
      "100%|██████████| 136/136 [39:00<00:00, 17.21s/it]\n"
     ]
    }
   ],
   "source": [
    "result = {}\n",
    "\n",
    "# loop over all relevant articles!\n",
    "for art_idx in tqdm([x[0] for x in relevant_articles.index]):\n",
    "    posts = relevant_posts[relevant_posts.ID_Article == art_idx]\n",
    "    interactions = read_graph.get_all_users_interactions(posts, all_votes, salvage_original_node_ids=True)\n",
    "    communities = utils.get_communities(interactions, min_size=100)\n",
    "    \n",
    "    # for com in communies\n",
    "    com_metrics = []\n",
    "    for com in communities:\n",
    "        com_interactions = interactions.subgraph(com)\n",
    "        metric = len(com_interactions.edges) / len(com_interactions.nodes)\n",
    "        # metric = len(com_interactions.edges)\n",
    "        com_metrics.append(metric)\n",
    "    \n",
    "    result[art_idx] = com_metrics"
   ]
  },
  {
   "cell_type": "markdown",
   "metadata": {},
   "source": [
    "### irrelevant articles"
   ]
  },
  {
   "cell_type": "code",
   "execution_count": 103,
   "metadata": {},
   "outputs": [
    {
     "name": "stderr",
     "output_type": "stream",
     "text": [
      "100%|██████████| 100/100 [28:53<00:00, 17.33s/it]\n"
     ]
    }
   ],
   "source": [
    "# use random subsample of irrelevant articles, since 4215 is too many articles\n",
    "N = 100\n",
    "rnd_irr_articles = sample(list(irrelevant_articles.index), N)\n",
    "\n",
    "# loop over all irrelevant articles!\n",
    "ir_result = {}\n",
    "for art_idx in tqdm([x[0] for x in rnd_irr_articles]):\n",
    "    posts = irrelevant_posts[irrelevant_posts.ID_Article == art_idx]\n",
    "    interactions = read_graph.get_all_users_interactions(posts, all_votes, salvage_original_node_ids=True)\n",
    "    communities = utils.get_communities(interactions, min_size=100)\n",
    "    \n",
    "    # for com in communies\n",
    "    com_metrics = []\n",
    "    for com in communities:\n",
    "        com_interactions = interactions.subgraph(com)\n",
    "        metric = len(com_interactions.edges) / len(com_interactions.nodes)\n",
    "        # metric = len(com_interactions.edges)\n",
    "        com_metrics.append(metric)\n",
    "    \n",
    "    ir_result[art_idx] = com_metrics"
   ]
  },
  {
   "cell_type": "markdown",
   "metadata": {},
   "source": [
    "## Visualization"
   ]
  },
  {
   "cell_type": "code",
   "execution_count": 374,
   "metadata": {},
   "outputs": [],
   "source": [
    "# prepare viz\n",
    "viz_arr = [\n",
    "    (all_postings[all_postings.ID_Article == x]['ArticlePublishingDate'].iloc[0].split()[0],\n",
    "     np.mean(result[x]), \n",
    "     all_postings[all_postings.ID_Article == x]['ArticleTitle'].iloc[0])\n",
    "    for x in result.keys() if len(result[x]) > 0]\n",
    "\n",
    "viz_df = pd.DataFrame(viz_arr, columns = ['date', 'mean', 'title'])\n",
    "viz_df = viz_df.sort_values(by='date')\n",
    "grouped_viz_df = viz_df.groupby('date').max()"
   ]
  },
  {
   "cell_type": "code",
   "execution_count": 367,
   "metadata": {},
   "outputs": [],
   "source": [
    "# prepare irrelevant data\n",
    "irr_arr = [\n",
    "    (all_postings[all_postings.ID_Article == x]['ArticlePublishingDate'].iloc[0].split()[0],\n",
    "    np.mean(ir_result[x]),\n",
    "    all_postings[all_postings.ID_Article == x]['ArticleTitle'].iloc[0])\n",
    "    for x in ir_result if len(ir_result[x]) > 0]\n",
    "\n",
    "irr_df = pd.DataFrame(irr_arr, columns=['date', 'mean', 'title'])\n",
    "irr_df = irr_df.sort_values(by='date')\n",
    "grouped_irr_df = irr_df.groupby('date').max()"
   ]
  },
  {
   "cell_type": "code",
   "execution_count": 458,
   "metadata": {},
   "outputs": [],
   "source": [
    "# prepare displayed articles\n",
    "# display_rel_art_ids = \n",
    "rel_title_selection = (\n",
    "                        (grouped_viz_df.index == '2019-05-17') \n",
    "                       | (grouped_viz_df.index == '2019-05-05') \n",
    "                       #| (grouped_viz_df.index == '2019-05-26') \n",
    "                       #| (grouped_viz_df.index == '2019-05-20') \n",
    "                       #| (grouped_viz_df.index == '2019-05-09')\n",
    "                      )\n",
    "rel_titles = [grouped_viz_df.iloc[x].title if rel_title_selection[x] else ' ' for x in range(0,len(grouped_viz_df))]\n",
    "\n",
    "irr_title_selection = (\n",
    "                        (grouped_irr_df.index == '2019-05-19') \n",
    "                       #| (grouped_irr_df.index == '2019-05-12') \n",
    "                      )\n",
    "irr_titles = [grouped_irr_df.iloc[x].title if irr_title_selection[x] else ' ' for x in range(0,len(grouped_irr_df))]"
   ]
  },
  {
   "cell_type": "code",
   "execution_count": 459,
   "metadata": {},
   "outputs": [
    {
     "data": {
      "application/vnd.plotly.v1+json": {
       "config": {
        "plotlyServerURL": "https://plot.ly"
       },
       "data": [
        {
         "line": {
          "color": "rgb(0,100,80)",
          "shape": "spline",
          "smoothing": 0.5
         },
         "mode": "lines+text",
         "name": "related",
         "text": [
          " ",
          " ",
          " ",
          "Salvini, Orbán, Strache – und Kurz?",
          " ",
          " ",
          " ",
          " ",
          "Verdecktes Strache-Video auf Ibiza: So besoffen kann keiner sein",
          " ",
          " ",
          " ",
          " ",
          " ",
          " ",
          " ",
          " ",
          " ",
          " ",
          " ",
          " ",
          " "
         ],
         "textposition": "top right",
         "type": "scatter",
         "x": [
          "2019-05-01",
          "2019-05-02",
          "2019-05-03",
          "2019-05-05",
          "2019-05-08",
          "2019-05-09",
          "2019-05-10",
          "2019-05-16",
          "2019-05-17",
          "2019-05-18",
          "2019-05-19",
          "2019-05-20",
          "2019-05-21",
          "2019-05-22",
          "2019-05-23",
          "2019-05-24",
          "2019-05-25",
          "2019-05-26",
          "2019-05-27",
          "2019-05-28",
          "2019-05-30",
          "2019-05-31"
         ],
         "y": [
          4.806245358897755,
          4.3671875,
          3.6198908943391137,
          4.807058358193573,
          3.084184350132626,
          2.891503825833131,
          3.045177045177045,
          3.746412941091629,
          4.777549768767479,
          4.359981657455578,
          3.6351594691512403,
          2.8576128602365483,
          3.71155761457562,
          3.1743896062992083,
          3.7452100840336136,
          3.8460645519715517,
          3.2363890103491832,
          4.0841493268053854,
          3.1044295540796965,
          3.44589833812489,
          3.172525090717721,
          3.0606807622488224
         ]
        },
        {
         "line": {
          "color": "rgb(80,0,100)",
          "shape": "spline",
          "smoothing": 0.5
         },
         "mode": "lines+text",
         "name": "unrelated",
         "opacity": 0.5,
         "text": [
          " ",
          " ",
          " ",
          " ",
          " ",
          " ",
          "Tobias Pötzelsberger, souveräner Moderator der Regierungskrise im ORF",
          " ",
          " ",
          " ",
          " ",
          " ",
          " "
         ],
         "textposition": "top right",
         "type": "scatter",
         "x": [
          "2019-05-03",
          "2019-05-04",
          "2019-05-05",
          "2019-05-07",
          "2019-05-11",
          "2019-05-12",
          "2019-05-19",
          "2019-05-22",
          "2019-05-23",
          "2019-05-27",
          "2019-05-29",
          "2019-05-30",
          "2019-05-31"
         ],
         "y": [
          3.3925758818703855,
          1.764783759929391,
          2.3852459016393444,
          2.518181818181818,
          2.2703900709219855,
          1.7064676616915422,
          4.566954741392788,
          3.4684585351654413,
          3.443656835687631,
          3.25783498560921,
          3.4328672506738545,
          3.0898623953304423,
          3.3983892069079498
         ]
        },
        {
         "line": {
          "color": "rgb(0,100,80)",
          "dash": "dot"
         },
         "mode": "lines",
         "name": "related mean",
         "opacity": 0.5,
         "textposition": "top right",
         "type": "scatter",
         "x": [
          "2019-05-01",
          "2019-05-02",
          "2019-05-03",
          "2019-05-05",
          "2019-05-08",
          "2019-05-09",
          "2019-05-10",
          "2019-05-16",
          "2019-05-17",
          "2019-05-18",
          "2019-05-19",
          "2019-05-20",
          "2019-05-21",
          "2019-05-22",
          "2019-05-23",
          "2019-05-24",
          "2019-05-25",
          "2019-05-26",
          "2019-05-27",
          "2019-05-28",
          "2019-05-30",
          "2019-05-31"
         ],
         "y": [
          3.662693544021883,
          3.662693544021883,
          3.662693544021883,
          3.662693544021883,
          3.662693544021883,
          3.662693544021883,
          3.662693544021883,
          3.662693544021883,
          3.662693544021883,
          3.662693544021883,
          3.662693544021883,
          3.662693544021883,
          3.662693544021883,
          3.662693544021883,
          3.662693544021883,
          3.662693544021883,
          3.662693544021883,
          3.662693544021883,
          3.662693544021883,
          3.662693544021883,
          3.662693544021883,
          3.662693544021883
         ]
        },
        {
         "line": {
          "color": "rgb(80,0,100)",
          "dash": "dot"
         },
         "mode": "lines",
         "name": "unrelated mean",
         "opacity": 0.5,
         "textposition": "top right",
         "type": "scatter",
         "x": [
          "2019-05-01",
          "2019-05-02",
          "2019-05-03",
          "2019-05-05",
          "2019-05-08",
          "2019-05-09",
          "2019-05-10",
          "2019-05-16",
          "2019-05-17",
          "2019-05-18",
          "2019-05-19",
          "2019-05-20",
          "2019-05-21",
          "2019-05-22",
          "2019-05-23",
          "2019-05-24",
          "2019-05-25",
          "2019-05-26",
          "2019-05-27",
          "2019-05-28",
          "2019-05-30",
          "2019-05-31"
         ],
         "y": [
          2.9765899265385984,
          2.9765899265385984,
          2.9765899265385984,
          2.9765899265385984,
          2.9765899265385984,
          2.9765899265385984,
          2.9765899265385984,
          2.9765899265385984,
          2.9765899265385984,
          2.9765899265385984,
          2.9765899265385984,
          2.9765899265385984,
          2.9765899265385984,
          2.9765899265385984,
          2.9765899265385984,
          2.9765899265385984,
          2.9765899265385984,
          2.9765899265385984,
          2.9765899265385984,
          2.9765899265385984,
          2.9765899265385984,
          2.9765899265385984
         ]
        }
       ],
       "layout": {
        "shapes": [
         {
          "fillcolor": "LightSalmon",
          "layer": "below",
          "line": {
           "width": 2
          },
          "opacity": 0.8,
          "x0": "2019-05-17",
          "x1": "2019-05-17",
          "y0": 0,
          "y1": 5
         }
        ],
        "template": {
         "data": {
          "bar": [
           {
            "error_x": {
             "color": "#2a3f5f"
            },
            "error_y": {
             "color": "#2a3f5f"
            },
            "marker": {
             "line": {
              "color": "#E5ECF6",
              "width": 0.5
             }
            },
            "type": "bar"
           }
          ],
          "barpolar": [
           {
            "marker": {
             "line": {
              "color": "#E5ECF6",
              "width": 0.5
             }
            },
            "type": "barpolar"
           }
          ],
          "carpet": [
           {
            "aaxis": {
             "endlinecolor": "#2a3f5f",
             "gridcolor": "white",
             "linecolor": "white",
             "minorgridcolor": "white",
             "startlinecolor": "#2a3f5f"
            },
            "baxis": {
             "endlinecolor": "#2a3f5f",
             "gridcolor": "white",
             "linecolor": "white",
             "minorgridcolor": "white",
             "startlinecolor": "#2a3f5f"
            },
            "type": "carpet"
           }
          ],
          "choropleth": [
           {
            "colorbar": {
             "outlinewidth": 0,
             "ticks": ""
            },
            "type": "choropleth"
           }
          ],
          "contour": [
           {
            "colorbar": {
             "outlinewidth": 0,
             "ticks": ""
            },
            "colorscale": [
             [
              0,
              "#0d0887"
             ],
             [
              0.1111111111111111,
              "#46039f"
             ],
             [
              0.2222222222222222,
              "#7201a8"
             ],
             [
              0.3333333333333333,
              "#9c179e"
             ],
             [
              0.4444444444444444,
              "#bd3786"
             ],
             [
              0.5555555555555556,
              "#d8576b"
             ],
             [
              0.6666666666666666,
              "#ed7953"
             ],
             [
              0.7777777777777778,
              "#fb9f3a"
             ],
             [
              0.8888888888888888,
              "#fdca26"
             ],
             [
              1,
              "#f0f921"
             ]
            ],
            "type": "contour"
           }
          ],
          "contourcarpet": [
           {
            "colorbar": {
             "outlinewidth": 0,
             "ticks": ""
            },
            "type": "contourcarpet"
           }
          ],
          "heatmap": [
           {
            "colorbar": {
             "outlinewidth": 0,
             "ticks": ""
            },
            "colorscale": [
             [
              0,
              "#0d0887"
             ],
             [
              0.1111111111111111,
              "#46039f"
             ],
             [
              0.2222222222222222,
              "#7201a8"
             ],
             [
              0.3333333333333333,
              "#9c179e"
             ],
             [
              0.4444444444444444,
              "#bd3786"
             ],
             [
              0.5555555555555556,
              "#d8576b"
             ],
             [
              0.6666666666666666,
              "#ed7953"
             ],
             [
              0.7777777777777778,
              "#fb9f3a"
             ],
             [
              0.8888888888888888,
              "#fdca26"
             ],
             [
              1,
              "#f0f921"
             ]
            ],
            "type": "heatmap"
           }
          ],
          "heatmapgl": [
           {
            "colorbar": {
             "outlinewidth": 0,
             "ticks": ""
            },
            "colorscale": [
             [
              0,
              "#0d0887"
             ],
             [
              0.1111111111111111,
              "#46039f"
             ],
             [
              0.2222222222222222,
              "#7201a8"
             ],
             [
              0.3333333333333333,
              "#9c179e"
             ],
             [
              0.4444444444444444,
              "#bd3786"
             ],
             [
              0.5555555555555556,
              "#d8576b"
             ],
             [
              0.6666666666666666,
              "#ed7953"
             ],
             [
              0.7777777777777778,
              "#fb9f3a"
             ],
             [
              0.8888888888888888,
              "#fdca26"
             ],
             [
              1,
              "#f0f921"
             ]
            ],
            "type": "heatmapgl"
           }
          ],
          "histogram": [
           {
            "marker": {
             "colorbar": {
              "outlinewidth": 0,
              "ticks": ""
             }
            },
            "type": "histogram"
           }
          ],
          "histogram2d": [
           {
            "colorbar": {
             "outlinewidth": 0,
             "ticks": ""
            },
            "colorscale": [
             [
              0,
              "#0d0887"
             ],
             [
              0.1111111111111111,
              "#46039f"
             ],
             [
              0.2222222222222222,
              "#7201a8"
             ],
             [
              0.3333333333333333,
              "#9c179e"
             ],
             [
              0.4444444444444444,
              "#bd3786"
             ],
             [
              0.5555555555555556,
              "#d8576b"
             ],
             [
              0.6666666666666666,
              "#ed7953"
             ],
             [
              0.7777777777777778,
              "#fb9f3a"
             ],
             [
              0.8888888888888888,
              "#fdca26"
             ],
             [
              1,
              "#f0f921"
             ]
            ],
            "type": "histogram2d"
           }
          ],
          "histogram2dcontour": [
           {
            "colorbar": {
             "outlinewidth": 0,
             "ticks": ""
            },
            "colorscale": [
             [
              0,
              "#0d0887"
             ],
             [
              0.1111111111111111,
              "#46039f"
             ],
             [
              0.2222222222222222,
              "#7201a8"
             ],
             [
              0.3333333333333333,
              "#9c179e"
             ],
             [
              0.4444444444444444,
              "#bd3786"
             ],
             [
              0.5555555555555556,
              "#d8576b"
             ],
             [
              0.6666666666666666,
              "#ed7953"
             ],
             [
              0.7777777777777778,
              "#fb9f3a"
             ],
             [
              0.8888888888888888,
              "#fdca26"
             ],
             [
              1,
              "#f0f921"
             ]
            ],
            "type": "histogram2dcontour"
           }
          ],
          "mesh3d": [
           {
            "colorbar": {
             "outlinewidth": 0,
             "ticks": ""
            },
            "type": "mesh3d"
           }
          ],
          "parcoords": [
           {
            "line": {
             "colorbar": {
              "outlinewidth": 0,
              "ticks": ""
             }
            },
            "type": "parcoords"
           }
          ],
          "pie": [
           {
            "automargin": true,
            "type": "pie"
           }
          ],
          "scatter": [
           {
            "marker": {
             "colorbar": {
              "outlinewidth": 0,
              "ticks": ""
             }
            },
            "type": "scatter"
           }
          ],
          "scatter3d": [
           {
            "line": {
             "colorbar": {
              "outlinewidth": 0,
              "ticks": ""
             }
            },
            "marker": {
             "colorbar": {
              "outlinewidth": 0,
              "ticks": ""
             }
            },
            "type": "scatter3d"
           }
          ],
          "scattercarpet": [
           {
            "marker": {
             "colorbar": {
              "outlinewidth": 0,
              "ticks": ""
             }
            },
            "type": "scattercarpet"
           }
          ],
          "scattergeo": [
           {
            "marker": {
             "colorbar": {
              "outlinewidth": 0,
              "ticks": ""
             }
            },
            "type": "scattergeo"
           }
          ],
          "scattergl": [
           {
            "marker": {
             "colorbar": {
              "outlinewidth": 0,
              "ticks": ""
             }
            },
            "type": "scattergl"
           }
          ],
          "scattermapbox": [
           {
            "marker": {
             "colorbar": {
              "outlinewidth": 0,
              "ticks": ""
             }
            },
            "type": "scattermapbox"
           }
          ],
          "scatterpolar": [
           {
            "marker": {
             "colorbar": {
              "outlinewidth": 0,
              "ticks": ""
             }
            },
            "type": "scatterpolar"
           }
          ],
          "scatterpolargl": [
           {
            "marker": {
             "colorbar": {
              "outlinewidth": 0,
              "ticks": ""
             }
            },
            "type": "scatterpolargl"
           }
          ],
          "scatterternary": [
           {
            "marker": {
             "colorbar": {
              "outlinewidth": 0,
              "ticks": ""
             }
            },
            "type": "scatterternary"
           }
          ],
          "surface": [
           {
            "colorbar": {
             "outlinewidth": 0,
             "ticks": ""
            },
            "colorscale": [
             [
              0,
              "#0d0887"
             ],
             [
              0.1111111111111111,
              "#46039f"
             ],
             [
              0.2222222222222222,
              "#7201a8"
             ],
             [
              0.3333333333333333,
              "#9c179e"
             ],
             [
              0.4444444444444444,
              "#bd3786"
             ],
             [
              0.5555555555555556,
              "#d8576b"
             ],
             [
              0.6666666666666666,
              "#ed7953"
             ],
             [
              0.7777777777777778,
              "#fb9f3a"
             ],
             [
              0.8888888888888888,
              "#fdca26"
             ],
             [
              1,
              "#f0f921"
             ]
            ],
            "type": "surface"
           }
          ],
          "table": [
           {
            "cells": {
             "fill": {
              "color": "#EBF0F8"
             },
             "line": {
              "color": "white"
             }
            },
            "header": {
             "fill": {
              "color": "#C8D4E3"
             },
             "line": {
              "color": "white"
             }
            },
            "type": "table"
           }
          ]
         },
         "layout": {
          "annotationdefaults": {
           "arrowcolor": "#2a3f5f",
           "arrowhead": 0,
           "arrowwidth": 1
          },
          "coloraxis": {
           "colorbar": {
            "outlinewidth": 0,
            "ticks": ""
           }
          },
          "colorscale": {
           "diverging": [
            [
             0,
             "#8e0152"
            ],
            [
             0.1,
             "#c51b7d"
            ],
            [
             0.2,
             "#de77ae"
            ],
            [
             0.3,
             "#f1b6da"
            ],
            [
             0.4,
             "#fde0ef"
            ],
            [
             0.5,
             "#f7f7f7"
            ],
            [
             0.6,
             "#e6f5d0"
            ],
            [
             0.7,
             "#b8e186"
            ],
            [
             0.8,
             "#7fbc41"
            ],
            [
             0.9,
             "#4d9221"
            ],
            [
             1,
             "#276419"
            ]
           ],
           "sequential": [
            [
             0,
             "#0d0887"
            ],
            [
             0.1111111111111111,
             "#46039f"
            ],
            [
             0.2222222222222222,
             "#7201a8"
            ],
            [
             0.3333333333333333,
             "#9c179e"
            ],
            [
             0.4444444444444444,
             "#bd3786"
            ],
            [
             0.5555555555555556,
             "#d8576b"
            ],
            [
             0.6666666666666666,
             "#ed7953"
            ],
            [
             0.7777777777777778,
             "#fb9f3a"
            ],
            [
             0.8888888888888888,
             "#fdca26"
            ],
            [
             1,
             "#f0f921"
            ]
           ],
           "sequentialminus": [
            [
             0,
             "#0d0887"
            ],
            [
             0.1111111111111111,
             "#46039f"
            ],
            [
             0.2222222222222222,
             "#7201a8"
            ],
            [
             0.3333333333333333,
             "#9c179e"
            ],
            [
             0.4444444444444444,
             "#bd3786"
            ],
            [
             0.5555555555555556,
             "#d8576b"
            ],
            [
             0.6666666666666666,
             "#ed7953"
            ],
            [
             0.7777777777777778,
             "#fb9f3a"
            ],
            [
             0.8888888888888888,
             "#fdca26"
            ],
            [
             1,
             "#f0f921"
            ]
           ]
          },
          "colorway": [
           "#636efa",
           "#EF553B",
           "#00cc96",
           "#ab63fa",
           "#FFA15A",
           "#19d3f3",
           "#FF6692",
           "#B6E880",
           "#FF97FF",
           "#FECB52"
          ],
          "font": {
           "color": "#2a3f5f"
          },
          "geo": {
           "bgcolor": "white",
           "lakecolor": "white",
           "landcolor": "#E5ECF6",
           "showlakes": true,
           "showland": true,
           "subunitcolor": "white"
          },
          "hoverlabel": {
           "align": "left"
          },
          "hovermode": "closest",
          "mapbox": {
           "style": "light"
          },
          "paper_bgcolor": "white",
          "plot_bgcolor": "#E5ECF6",
          "polar": {
           "angularaxis": {
            "gridcolor": "white",
            "linecolor": "white",
            "ticks": ""
           },
           "bgcolor": "#E5ECF6",
           "radialaxis": {
            "gridcolor": "white",
            "linecolor": "white",
            "ticks": ""
           }
          },
          "scene": {
           "xaxis": {
            "backgroundcolor": "#E5ECF6",
            "gridcolor": "white",
            "gridwidth": 2,
            "linecolor": "white",
            "showbackground": true,
            "ticks": "",
            "zerolinecolor": "white"
           },
           "yaxis": {
            "backgroundcolor": "#E5ECF6",
            "gridcolor": "white",
            "gridwidth": 2,
            "linecolor": "white",
            "showbackground": true,
            "ticks": "",
            "zerolinecolor": "white"
           },
           "zaxis": {
            "backgroundcolor": "#E5ECF6",
            "gridcolor": "white",
            "gridwidth": 2,
            "linecolor": "white",
            "showbackground": true,
            "ticks": "",
            "zerolinecolor": "white"
           }
          },
          "shapedefaults": {
           "line": {
            "color": "#2a3f5f"
           }
          },
          "ternary": {
           "aaxis": {
            "gridcolor": "white",
            "linecolor": "white",
            "ticks": ""
           },
           "baxis": {
            "gridcolor": "white",
            "linecolor": "white",
            "ticks": ""
           },
           "bgcolor": "#E5ECF6",
           "caxis": {
            "gridcolor": "white",
            "linecolor": "white",
            "ticks": ""
           }
          },
          "title": {
           "x": 0.05
          },
          "xaxis": {
           "automargin": true,
           "gridcolor": "white",
           "linecolor": "white",
           "ticks": "",
           "title": {
            "standoff": 15
           },
           "zerolinecolor": "white",
           "zerolinewidth": 2
          },
          "yaxis": {
           "automargin": true,
           "gridcolor": "white",
           "linecolor": "white",
           "ticks": "",
           "title": {
            "standoff": 15
           },
           "zerolinecolor": "white",
           "zerolinewidth": 2
          }
         }
        },
        "title": {
         "text": "Average Community Activity"
        },
        "yaxis": {
         "title": {
          "text": "avg interactions/member"
         }
        }
       }
      },
      "text/html": [
       "<div>                            <div id=\"b19d6c01-2369-4622-b737-bfc8a4359f95\" class=\"plotly-graph-div\" style=\"height:525px; width:100%;\"></div>            <script type=\"text/javascript\">                require([\"plotly\"], function(Plotly) {                    window.PLOTLYENV=window.PLOTLYENV || {};                                    if (document.getElementById(\"b19d6c01-2369-4622-b737-bfc8a4359f95\")) {                    Plotly.newPlot(                        \"b19d6c01-2369-4622-b737-bfc8a4359f95\",                        [{\"line\": {\"color\": \"rgb(0,100,80)\", \"shape\": \"spline\", \"smoothing\": 0.5}, \"mode\": \"lines+text\", \"name\": \"related\", \"text\": [\" \", \" \", \" \", \"Salvini, Orb\\u00e1n, Strache \\u2013 und Kurz?\", \" \", \" \", \" \", \" \", \"Verdecktes Strache-Video auf Ibiza: So besoffen kann keiner sein\", \" \", \" \", \" \", \" \", \" \", \" \", \" \", \" \", \" \", \" \", \" \", \" \", \" \"], \"textposition\": \"top right\", \"type\": \"scatter\", \"x\": [\"2019-05-01\", \"2019-05-02\", \"2019-05-03\", \"2019-05-05\", \"2019-05-08\", \"2019-05-09\", \"2019-05-10\", \"2019-05-16\", \"2019-05-17\", \"2019-05-18\", \"2019-05-19\", \"2019-05-20\", \"2019-05-21\", \"2019-05-22\", \"2019-05-23\", \"2019-05-24\", \"2019-05-25\", \"2019-05-26\", \"2019-05-27\", \"2019-05-28\", \"2019-05-30\", \"2019-05-31\"], \"y\": [4.806245358897755, 4.3671875, 3.6198908943391137, 4.807058358193573, 3.084184350132626, 2.891503825833131, 3.045177045177045, 3.746412941091629, 4.777549768767479, 4.359981657455578, 3.6351594691512403, 2.8576128602365483, 3.71155761457562, 3.1743896062992083, 3.7452100840336136, 3.8460645519715517, 3.2363890103491832, 4.0841493268053854, 3.1044295540796965, 3.44589833812489, 3.172525090717721, 3.0606807622488224]}, {\"line\": {\"color\": \"rgb(80,0,100)\", \"shape\": \"spline\", \"smoothing\": 0.5}, \"mode\": \"lines+text\", \"name\": \"unrelated\", \"opacity\": 0.5, \"text\": [\" \", \" \", \" \", \" \", \" \", \" \", \"Tobias P\\u00f6tzelsberger, souver\\u00e4ner Moderator der Regierungskrise im ORF\", \" \", \" \", \" \", \" \", \" \", \" \"], \"textposition\": \"top right\", \"type\": \"scatter\", \"x\": [\"2019-05-03\", \"2019-05-04\", \"2019-05-05\", \"2019-05-07\", \"2019-05-11\", \"2019-05-12\", \"2019-05-19\", \"2019-05-22\", \"2019-05-23\", \"2019-05-27\", \"2019-05-29\", \"2019-05-30\", \"2019-05-31\"], \"y\": [3.3925758818703855, 1.764783759929391, 2.3852459016393444, 2.518181818181818, 2.2703900709219855, 1.7064676616915422, 4.566954741392788, 3.4684585351654413, 3.443656835687631, 3.25783498560921, 3.4328672506738545, 3.0898623953304423, 3.3983892069079498]}, {\"line\": {\"color\": \"rgb(0,100,80)\", \"dash\": \"dot\"}, \"mode\": \"lines\", \"name\": \"related mean\", \"opacity\": 0.5, \"textposition\": \"top right\", \"type\": \"scatter\", \"x\": [\"2019-05-01\", \"2019-05-02\", \"2019-05-03\", \"2019-05-05\", \"2019-05-08\", \"2019-05-09\", \"2019-05-10\", \"2019-05-16\", \"2019-05-17\", \"2019-05-18\", \"2019-05-19\", \"2019-05-20\", \"2019-05-21\", \"2019-05-22\", \"2019-05-23\", \"2019-05-24\", \"2019-05-25\", \"2019-05-26\", \"2019-05-27\", \"2019-05-28\", \"2019-05-30\", \"2019-05-31\"], \"y\": [3.662693544021883, 3.662693544021883, 3.662693544021883, 3.662693544021883, 3.662693544021883, 3.662693544021883, 3.662693544021883, 3.662693544021883, 3.662693544021883, 3.662693544021883, 3.662693544021883, 3.662693544021883, 3.662693544021883, 3.662693544021883, 3.662693544021883, 3.662693544021883, 3.662693544021883, 3.662693544021883, 3.662693544021883, 3.662693544021883, 3.662693544021883, 3.662693544021883]}, {\"line\": {\"color\": \"rgb(80,0,100)\", \"dash\": \"dot\"}, \"mode\": \"lines\", \"name\": \"unrelated mean\", \"opacity\": 0.5, \"textposition\": \"top right\", \"type\": \"scatter\", \"x\": [\"2019-05-01\", \"2019-05-02\", \"2019-05-03\", \"2019-05-05\", \"2019-05-08\", \"2019-05-09\", \"2019-05-10\", \"2019-05-16\", \"2019-05-17\", \"2019-05-18\", \"2019-05-19\", \"2019-05-20\", \"2019-05-21\", \"2019-05-22\", \"2019-05-23\", \"2019-05-24\", \"2019-05-25\", \"2019-05-26\", \"2019-05-27\", \"2019-05-28\", \"2019-05-30\", \"2019-05-31\"], \"y\": [2.9765899265385984, 2.9765899265385984, 2.9765899265385984, 2.9765899265385984, 2.9765899265385984, 2.9765899265385984, 2.9765899265385984, 2.9765899265385984, 2.9765899265385984, 2.9765899265385984, 2.9765899265385984, 2.9765899265385984, 2.9765899265385984, 2.9765899265385984, 2.9765899265385984, 2.9765899265385984, 2.9765899265385984, 2.9765899265385984, 2.9765899265385984, 2.9765899265385984, 2.9765899265385984, 2.9765899265385984]}],                        {\"shapes\": [{\"fillcolor\": \"LightSalmon\", \"layer\": \"below\", \"line\": {\"width\": 2}, \"opacity\": 0.8, \"x0\": \"2019-05-17\", \"x1\": \"2019-05-17\", \"y0\": 0, \"y1\": 5}], \"template\": {\"data\": {\"bar\": [{\"error_x\": {\"color\": \"#2a3f5f\"}, \"error_y\": {\"color\": \"#2a3f5f\"}, \"marker\": {\"line\": {\"color\": \"#E5ECF6\", \"width\": 0.5}}, \"type\": \"bar\"}], \"barpolar\": [{\"marker\": {\"line\": {\"color\": \"#E5ECF6\", \"width\": 0.5}}, \"type\": \"barpolar\"}], \"carpet\": [{\"aaxis\": {\"endlinecolor\": \"#2a3f5f\", \"gridcolor\": \"white\", \"linecolor\": \"white\", \"minorgridcolor\": \"white\", \"startlinecolor\": \"#2a3f5f\"}, \"baxis\": {\"endlinecolor\": \"#2a3f5f\", \"gridcolor\": \"white\", \"linecolor\": \"white\", \"minorgridcolor\": \"white\", \"startlinecolor\": \"#2a3f5f\"}, \"type\": \"carpet\"}], \"choropleth\": [{\"colorbar\": {\"outlinewidth\": 0, \"ticks\": \"\"}, \"type\": \"choropleth\"}], \"contour\": [{\"colorbar\": {\"outlinewidth\": 0, \"ticks\": \"\"}, \"colorscale\": [[0.0, \"#0d0887\"], [0.1111111111111111, \"#46039f\"], [0.2222222222222222, \"#7201a8\"], [0.3333333333333333, \"#9c179e\"], [0.4444444444444444, \"#bd3786\"], [0.5555555555555556, \"#d8576b\"], [0.6666666666666666, \"#ed7953\"], [0.7777777777777778, \"#fb9f3a\"], [0.8888888888888888, \"#fdca26\"], [1.0, \"#f0f921\"]], \"type\": \"contour\"}], \"contourcarpet\": [{\"colorbar\": {\"outlinewidth\": 0, \"ticks\": \"\"}, \"type\": \"contourcarpet\"}], \"heatmap\": [{\"colorbar\": {\"outlinewidth\": 0, \"ticks\": \"\"}, \"colorscale\": [[0.0, \"#0d0887\"], [0.1111111111111111, \"#46039f\"], [0.2222222222222222, \"#7201a8\"], [0.3333333333333333, \"#9c179e\"], [0.4444444444444444, \"#bd3786\"], [0.5555555555555556, \"#d8576b\"], [0.6666666666666666, \"#ed7953\"], [0.7777777777777778, \"#fb9f3a\"], [0.8888888888888888, \"#fdca26\"], [1.0, \"#f0f921\"]], \"type\": \"heatmap\"}], \"heatmapgl\": [{\"colorbar\": {\"outlinewidth\": 0, \"ticks\": \"\"}, \"colorscale\": [[0.0, \"#0d0887\"], [0.1111111111111111, \"#46039f\"], [0.2222222222222222, \"#7201a8\"], [0.3333333333333333, \"#9c179e\"], [0.4444444444444444, \"#bd3786\"], [0.5555555555555556, \"#d8576b\"], [0.6666666666666666, \"#ed7953\"], [0.7777777777777778, \"#fb9f3a\"], [0.8888888888888888, \"#fdca26\"], [1.0, \"#f0f921\"]], \"type\": \"heatmapgl\"}], \"histogram\": [{\"marker\": {\"colorbar\": {\"outlinewidth\": 0, \"ticks\": \"\"}}, \"type\": \"histogram\"}], \"histogram2d\": [{\"colorbar\": {\"outlinewidth\": 0, \"ticks\": \"\"}, \"colorscale\": [[0.0, \"#0d0887\"], [0.1111111111111111, \"#46039f\"], [0.2222222222222222, \"#7201a8\"], [0.3333333333333333, \"#9c179e\"], [0.4444444444444444, \"#bd3786\"], [0.5555555555555556, \"#d8576b\"], [0.6666666666666666, \"#ed7953\"], [0.7777777777777778, \"#fb9f3a\"], [0.8888888888888888, \"#fdca26\"], [1.0, \"#f0f921\"]], \"type\": \"histogram2d\"}], \"histogram2dcontour\": [{\"colorbar\": {\"outlinewidth\": 0, \"ticks\": \"\"}, \"colorscale\": [[0.0, \"#0d0887\"], [0.1111111111111111, \"#46039f\"], [0.2222222222222222, \"#7201a8\"], [0.3333333333333333, \"#9c179e\"], [0.4444444444444444, \"#bd3786\"], [0.5555555555555556, \"#d8576b\"], [0.6666666666666666, \"#ed7953\"], [0.7777777777777778, \"#fb9f3a\"], [0.8888888888888888, \"#fdca26\"], [1.0, \"#f0f921\"]], \"type\": \"histogram2dcontour\"}], \"mesh3d\": [{\"colorbar\": {\"outlinewidth\": 0, \"ticks\": \"\"}, \"type\": \"mesh3d\"}], \"parcoords\": [{\"line\": {\"colorbar\": {\"outlinewidth\": 0, \"ticks\": \"\"}}, \"type\": \"parcoords\"}], \"pie\": [{\"automargin\": true, \"type\": \"pie\"}], \"scatter\": [{\"marker\": {\"colorbar\": {\"outlinewidth\": 0, \"ticks\": \"\"}}, \"type\": \"scatter\"}], \"scatter3d\": [{\"line\": {\"colorbar\": {\"outlinewidth\": 0, \"ticks\": \"\"}}, \"marker\": {\"colorbar\": {\"outlinewidth\": 0, \"ticks\": \"\"}}, \"type\": \"scatter3d\"}], \"scattercarpet\": [{\"marker\": {\"colorbar\": {\"outlinewidth\": 0, \"ticks\": \"\"}}, \"type\": \"scattercarpet\"}], \"scattergeo\": [{\"marker\": {\"colorbar\": {\"outlinewidth\": 0, \"ticks\": \"\"}}, \"type\": \"scattergeo\"}], \"scattergl\": [{\"marker\": {\"colorbar\": {\"outlinewidth\": 0, \"ticks\": \"\"}}, \"type\": \"scattergl\"}], \"scattermapbox\": [{\"marker\": {\"colorbar\": {\"outlinewidth\": 0, \"ticks\": \"\"}}, \"type\": \"scattermapbox\"}], \"scatterpolar\": [{\"marker\": {\"colorbar\": {\"outlinewidth\": 0, \"ticks\": \"\"}}, \"type\": \"scatterpolar\"}], \"scatterpolargl\": [{\"marker\": {\"colorbar\": {\"outlinewidth\": 0, \"ticks\": \"\"}}, \"type\": \"scatterpolargl\"}], \"scatterternary\": [{\"marker\": {\"colorbar\": {\"outlinewidth\": 0, \"ticks\": \"\"}}, \"type\": \"scatterternary\"}], \"surface\": [{\"colorbar\": {\"outlinewidth\": 0, \"ticks\": \"\"}, \"colorscale\": [[0.0, \"#0d0887\"], [0.1111111111111111, \"#46039f\"], [0.2222222222222222, \"#7201a8\"], [0.3333333333333333, \"#9c179e\"], [0.4444444444444444, \"#bd3786\"], [0.5555555555555556, \"#d8576b\"], [0.6666666666666666, \"#ed7953\"], [0.7777777777777778, \"#fb9f3a\"], [0.8888888888888888, \"#fdca26\"], [1.0, \"#f0f921\"]], \"type\": \"surface\"}], \"table\": [{\"cells\": {\"fill\": {\"color\": \"#EBF0F8\"}, \"line\": {\"color\": \"white\"}}, \"header\": {\"fill\": {\"color\": \"#C8D4E3\"}, \"line\": {\"color\": \"white\"}}, \"type\": \"table\"}]}, \"layout\": {\"annotationdefaults\": {\"arrowcolor\": \"#2a3f5f\", \"arrowhead\": 0, \"arrowwidth\": 1}, \"coloraxis\": {\"colorbar\": {\"outlinewidth\": 0, \"ticks\": \"\"}}, \"colorscale\": {\"diverging\": [[0, \"#8e0152\"], [0.1, \"#c51b7d\"], [0.2, \"#de77ae\"], [0.3, \"#f1b6da\"], [0.4, \"#fde0ef\"], [0.5, \"#f7f7f7\"], [0.6, \"#e6f5d0\"], [0.7, \"#b8e186\"], [0.8, \"#7fbc41\"], [0.9, \"#4d9221\"], [1, \"#276419\"]], \"sequential\": [[0.0, \"#0d0887\"], [0.1111111111111111, \"#46039f\"], [0.2222222222222222, \"#7201a8\"], [0.3333333333333333, \"#9c179e\"], [0.4444444444444444, \"#bd3786\"], [0.5555555555555556, \"#d8576b\"], [0.6666666666666666, \"#ed7953\"], [0.7777777777777778, \"#fb9f3a\"], [0.8888888888888888, \"#fdca26\"], [1.0, \"#f0f921\"]], \"sequentialminus\": [[0.0, \"#0d0887\"], [0.1111111111111111, \"#46039f\"], [0.2222222222222222, \"#7201a8\"], [0.3333333333333333, \"#9c179e\"], [0.4444444444444444, \"#bd3786\"], [0.5555555555555556, \"#d8576b\"], [0.6666666666666666, \"#ed7953\"], [0.7777777777777778, \"#fb9f3a\"], [0.8888888888888888, \"#fdca26\"], [1.0, \"#f0f921\"]]}, \"colorway\": [\"#636efa\", \"#EF553B\", \"#00cc96\", \"#ab63fa\", \"#FFA15A\", \"#19d3f3\", \"#FF6692\", \"#B6E880\", \"#FF97FF\", \"#FECB52\"], \"font\": {\"color\": \"#2a3f5f\"}, \"geo\": {\"bgcolor\": \"white\", \"lakecolor\": \"white\", \"landcolor\": \"#E5ECF6\", \"showlakes\": true, \"showland\": true, \"subunitcolor\": \"white\"}, \"hoverlabel\": {\"align\": \"left\"}, \"hovermode\": \"closest\", \"mapbox\": {\"style\": \"light\"}, \"paper_bgcolor\": \"white\", \"plot_bgcolor\": \"#E5ECF6\", \"polar\": {\"angularaxis\": {\"gridcolor\": \"white\", \"linecolor\": \"white\", \"ticks\": \"\"}, \"bgcolor\": \"#E5ECF6\", \"radialaxis\": {\"gridcolor\": \"white\", \"linecolor\": \"white\", \"ticks\": \"\"}}, \"scene\": {\"xaxis\": {\"backgroundcolor\": \"#E5ECF6\", \"gridcolor\": \"white\", \"gridwidth\": 2, \"linecolor\": \"white\", \"showbackground\": true, \"ticks\": \"\", \"zerolinecolor\": \"white\"}, \"yaxis\": {\"backgroundcolor\": \"#E5ECF6\", \"gridcolor\": \"white\", \"gridwidth\": 2, \"linecolor\": \"white\", \"showbackground\": true, \"ticks\": \"\", \"zerolinecolor\": \"white\"}, \"zaxis\": {\"backgroundcolor\": \"#E5ECF6\", \"gridcolor\": \"white\", \"gridwidth\": 2, \"linecolor\": \"white\", \"showbackground\": true, \"ticks\": \"\", \"zerolinecolor\": \"white\"}}, \"shapedefaults\": {\"line\": {\"color\": \"#2a3f5f\"}}, \"ternary\": {\"aaxis\": {\"gridcolor\": \"white\", \"linecolor\": \"white\", \"ticks\": \"\"}, \"baxis\": {\"gridcolor\": \"white\", \"linecolor\": \"white\", \"ticks\": \"\"}, \"bgcolor\": \"#E5ECF6\", \"caxis\": {\"gridcolor\": \"white\", \"linecolor\": \"white\", \"ticks\": \"\"}}, \"title\": {\"x\": 0.05}, \"xaxis\": {\"automargin\": true, \"gridcolor\": \"white\", \"linecolor\": \"white\", \"ticks\": \"\", \"title\": {\"standoff\": 15}, \"zerolinecolor\": \"white\", \"zerolinewidth\": 2}, \"yaxis\": {\"automargin\": true, \"gridcolor\": \"white\", \"linecolor\": \"white\", \"ticks\": \"\", \"title\": {\"standoff\": 15}, \"zerolinecolor\": \"white\", \"zerolinewidth\": 2}}}, \"title\": {\"text\": \"Average Community Activity\"}, \"yaxis\": {\"title\": {\"text\": \"avg interactions/member\"}}},                        {\"responsive\": true}                    ).then(function(){\n",
       "                            \n",
       "var gd = document.getElementById('b19d6c01-2369-4622-b737-bfc8a4359f95');\n",
       "var x = new MutationObserver(function (mutations, observer) {{\n",
       "        var display = window.getComputedStyle(gd).display;\n",
       "        if (!display || display === 'none') {{\n",
       "            console.log([gd, 'removed!']);\n",
       "            Plotly.purge(gd);\n",
       "            observer.disconnect();\n",
       "        }}\n",
       "}});\n",
       "\n",
       "// Listen for the removal of the full notebook cells\n",
       "var notebookContainer = gd.closest('#notebook-container');\n",
       "if (notebookContainer) {{\n",
       "    x.observe(notebookContainer, {childList: true});\n",
       "}}\n",
       "\n",
       "// Listen for the clearing of the current output cell\n",
       "var outputEl = gd.closest('.output');\n",
       "if (outputEl) {{\n",
       "    x.observe(outputEl, {childList: true});\n",
       "}}\n",
       "\n",
       "                        })                };                });            </script>        </div>"
      ]
     },
     "metadata": {},
     "output_type": "display_data"
    }
   ],
   "source": [
    "# visualize\n",
    "x = list(grouped_viz_df.index)\n",
    "y = list(grouped_viz_df['mean'])\n",
    "ix = list(grouped_irr_df.index)\n",
    "iy = list(grouped_irr_df['mean'])\n",
    "\n",
    "fig = go.Figure([\n",
    "    go.Scatter(\n",
    "        x=x,\n",
    "        y=y,\n",
    "        line=dict(color='rgb(0,100,80)', shape='spline', smoothing=0.5),\n",
    "        mode='lines+text',\n",
    "        name='related',\n",
    "        text=rel_titles\n",
    "    ),\n",
    "    \n",
    "    go.Scatter(\n",
    "        x=ix,\n",
    "        y=iy,\n",
    "        line=dict(color='rgb(80,0,100)', shape='spline', smoothing=0.5),\n",
    "        mode='lines+text',\n",
    "        name='unrelated',\n",
    "        opacity=0.5,\n",
    "        text=irr_titles\n",
    "    ),\n",
    "    \n",
    "    go.Scatter(\n",
    "        x=x,\n",
    "        y=[np.mean(y)] * len(x),\n",
    "        line=dict(color='rgb(0,100,80)', dash='dot'),\n",
    "        mode='lines',\n",
    "        name='related mean',\n",
    "        opacity=0.5,\n",
    "    ),\n",
    "    \n",
    "    go.Scatter(\n",
    "        x=x,\n",
    "        y=[np.mean(iy)] * len(x),\n",
    "        line=dict(color='rgb(80,0,100)', dash='dot'),\n",
    "        mode='lines',\n",
    "        name='unrelated mean',\n",
    "        opacity=0.5\n",
    "    )\n",
    "])\n",
    "\n",
    "fig.update_layout(\n",
    "    yaxis_title='avg interactions/member',\n",
    "    title='Average Community Activity',\n",
    ")\n",
    "\n",
    "fig.add_shape(\n",
    "    x0=\"2019-05-17\", x1=\"2019-05-17\", y0=0, y1=5,\n",
    "    fillcolor=\"LightSalmon\", \n",
    "    opacity=0.8,\n",
    "    layer=\"below\", \n",
    "    line_width=2\n",
    ")\n",
    "\n",
    "fig.update_traces(textposition='top right')\n",
    "\n",
    "fig.show()"
   ]
  },
  {
   "cell_type": "raw",
   "metadata": {},
   "source": [
    "TODO next\n",
    "add relevant articles as points\n",
    "\n",
    "TODO\n",
    "double x axis"
   ]
  }
 ],
 "metadata": {
  "kernelspec": {
   "display_name": "Python 3",
   "language": "python",
   "name": "python3"
  },
  "language_info": {
   "codemirror_mode": {
    "name": "ipython",
    "version": 3
   },
   "file_extension": ".py",
   "mimetype": "text/x-python",
   "name": "python",
   "nbconvert_exporter": "python",
   "pygments_lexer": "ipython3",
   "version": "3.8.5"
  }
 },
 "nbformat": 4,
 "nbformat_minor": 4
}
