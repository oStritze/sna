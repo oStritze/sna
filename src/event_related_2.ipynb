{
 "cells": [
  {
   "cell_type": "markdown",
   "metadata": {},
   "source": [
    "# Ibizagate\n",
    "\n",
    "compare ibiza relevant articles to other articles, look at differences in #interactions and activity (out_degrees) \n",
    "\n",
    "__Question: Is there a correlation between the de/in-crease of metrics and the distance to an event (ibizagate)?__\n",
    "\n",
    "metrics:\n",
    "* interactions\n",
    "* activity (out_degrees)\n",
    "* centrality TODO"
   ]
  },
  {
   "cell_type": "code",
   "execution_count": 2,
   "metadata": {},
   "outputs": [],
   "source": [
    "# automatically reload imports before executing any line in case you changed something\n",
    "%load_ext autoreload\n",
    "%autoreload 2"
   ]
  },
  {
   "cell_type": "code",
   "execution_count": 3,
   "metadata": {},
   "outputs": [],
   "source": [
    "import utils\n",
    "import read_graph\n",
    "import networkx as nx\n",
    "import pandas as pd\n",
    "import pickle\n",
    "import plotly.express as px\n",
    "import plotly.graph_objs as go\n",
    "import numpy as np\n",
    "from tqdm import tqdm\n",
    "from random import sample "
   ]
  },
  {
   "cell_type": "markdown",
   "metadata": {},
   "source": [
    "## Load Data"
   ]
  },
  {
   "cell_type": "code",
   "execution_count": 4,
   "metadata": {},
   "outputs": [],
   "source": [
    "all_postings = utils.read_all_postings()\n",
    "all_votes = utils.read_all_votes()"
   ]
  },
  {
   "cell_type": "markdown",
   "metadata": {},
   "source": [
    "## Filter for relevant posts\n",
    "\n",
    "* ArticleRessort == FPÖ\n",
    "* Title contains FPÖ\n",
    "* Title contains Strache\n",
    "* Title contains Ibiza"
   ]
  },
  {
   "cell_type": "code",
   "execution_count": 5,
   "metadata": {},
   "outputs": [
    {
     "name": "stdout",
     "output_type": "stream",
     "text": [
      "(739094, 14) (80413, 14) (658681, 14)\n",
      "(136,) (4215,)\n"
     ]
    }
   ],
   "source": [
    "selection = (\n",
    "(all_postings.ArticleRessortName == 'FPÖ') |\n",
    "(all_postings['ArticleTitle'].str.contains('Ibiza', regex=False)) |\n",
    "(all_postings['ArticleTitle'].str.contains('ibiza', regex=False)) |\n",
    "(all_postings['ArticleTitle'].str.contains('Strache', regex=False)))\n",
    "\n",
    "# posts\n",
    "relevant_posts = all_postings[selection]\n",
    "irrelevant_posts = all_postings[[not x for x in selection]]\n",
    "print(all_postings.shape, relevant_posts.shape, irrelevant_posts.shape)\n",
    "\n",
    "# group for articles\n",
    "relevant_articles = relevant_posts.groupby(by=['ID_Article', 'ArticlePublishingDate']).count().sort_values(by='ID_Posting', ascending=False)['ID_Posting']\n",
    "irrelevant_articles = irrelevant_posts.groupby(by=['ID_Article', 'ArticlePublishingDate']).count().sort_values(by='ID_Posting', ascending=False)['ID_Posting']\n",
    "print(relevant_articles.shape, irrelevant_articles.shape)"
   ]
  },
  {
   "cell_type": "markdown",
   "metadata": {},
   "source": [
    "## Calculate Metrics"
   ]
  },
  {
   "cell_type": "markdown",
   "metadata": {},
   "source": [
    "### relevant articles"
   ]
  },
  {
   "cell_type": "code",
   "execution_count": 12,
   "metadata": {},
   "outputs": [
    {
     "name": "stderr",
     "output_type": "stream",
     "text": [
      "100%|██████████| 136/136 [38:05<00:00, 16.81s/it]\n"
     ]
    }
   ],
   "source": [
    "result = {}\n",
    "\n",
    "# loop over all relevant articles!\n",
    "for art_idx in tqdm([x[0] for x in relevant_articles.index]):\n",
    "    posts = relevant_posts[relevant_posts.ID_Article == art_idx]\n",
    "    interactions = read_graph.get_all_users_interactions(posts, all_votes, salvage_original_node_ids=True)\n",
    "    communities = utils.get_communities(interactions, min_size=100)\n",
    "    \n",
    "    # for com in communies\n",
    "    com_metrics = []\n",
    "    for com in communities:\n",
    "        com_interactions = interactions.subgraph(com)\n",
    "        metric = len(com_interactions.edges) / len(com_interactions.nodes)\n",
    "        # metric = len(com_interactions.edges)\n",
    "        com_metrics.append(metric)\n",
    "    \n",
    "    result[art_idx] = com_metrics"
   ]
  },
  {
   "cell_type": "markdown",
   "metadata": {},
   "source": [
    "### irrelevant articles"
   ]
  },
  {
   "cell_type": "code",
   "execution_count": 13,
   "metadata": {},
   "outputs": [
    {
     "name": "stderr",
     "output_type": "stream",
     "text": [
      "100%|██████████| 1000/1000 [4:32:20<00:00, 16.34s/it] \n"
     ]
    }
   ],
   "source": [
    "# use random subsample of irrelevant articles, since 4215 is too many articles\n",
    "N = 1000\n",
    "irr_pool_threshold = 100\n",
    "irr_pool = irrelevant_articles[irrelevant_articles > irr_pool_threshold]\n",
    "rnd_irr_articles = sample(list(irr_pool.index), N)\n",
    "\n",
    "# loop over all irrelevant articles!\n",
    "ir_result = {}\n",
    "for art_idx in tqdm([x[0] for x in rnd_irr_articles]):\n",
    "    posts = irrelevant_posts[irrelevant_posts.ID_Article == art_idx]\n",
    "    interactions = read_graph.get_all_users_interactions(posts, all_votes, salvage_original_node_ids=True)\n",
    "    communities = utils.get_communities(interactions, min_size=100)\n",
    "    \n",
    "    # for com in communies\n",
    "    com_metrics = []\n",
    "    for com in communities:\n",
    "        com_interactions = interactions.subgraph(com)\n",
    "        metric = len(com_interactions.edges) / len(com_interactions.nodes)\n",
    "        # metric = len(com_interactions.edges)\n",
    "        com_metrics.append(metric)\n",
    "    \n",
    "    ir_result[art_idx] = com_metrics"
   ]
  },
  {
   "cell_type": "markdown",
   "metadata": {},
   "source": [
    "## Visualization"
   ]
  },
  {
   "cell_type": "code",
   "execution_count": 119,
   "metadata": {},
   "outputs": [
    {
     "data": {
      "text/html": [
       "<div>\n",
       "<style scoped>\n",
       "    .dataframe tbody tr th:only-of-type {\n",
       "        vertical-align: middle;\n",
       "    }\n",
       "\n",
       "    .dataframe tbody tr th {\n",
       "        vertical-align: top;\n",
       "    }\n",
       "\n",
       "    .dataframe thead th {\n",
       "        text-align: right;\n",
       "    }\n",
       "</style>\n",
       "<table border=\"1\" class=\"dataframe\">\n",
       "  <thead>\n",
       "    <tr style=\"text-align: right;\">\n",
       "      <th></th>\n",
       "      <th>max</th>\n",
       "      <th>max_title</th>\n",
       "      <th>mean</th>\n",
       "      <th>min</th>\n",
       "    </tr>\n",
       "    <tr>\n",
       "      <th>date</th>\n",
       "      <th></th>\n",
       "      <th></th>\n",
       "      <th></th>\n",
       "      <th></th>\n",
       "    </tr>\n",
       "  </thead>\n",
       "  <tbody>\n",
       "    <tr>\n",
       "      <th>2019-05-01</th>\n",
       "      <td>4.806245</td>\n",
       "      <td>1. Mai in Wien: SPÖ fordert von Strache Rücktritt</td>\n",
       "      <td>4.806245</td>\n",
       "      <td>4.806245</td>\n",
       "    </tr>\n",
       "    <tr>\n",
       "      <th>2019-05-02</th>\n",
       "      <td>4.367188</td>\n",
       "      <td>Heinz-Christian Strache: Er will halt kein Lul...</td>\n",
       "      <td>4.367188</td>\n",
       "      <td>4.367188</td>\n",
       "    </tr>\n",
       "    <tr>\n",
       "      <th>2019-05-03</th>\n",
       "      <td>3.619891</td>\n",
       "      <td>FPÖ-Politikerin ist auf umstrittenes RFJ-Plaka...</td>\n",
       "      <td>3.298258</td>\n",
       "      <td>2.976626</td>\n",
       "    </tr>\n",
       "    <tr>\n",
       "      <th>2019-05-05</th>\n",
       "      <td>4.807058</td>\n",
       "      <td>Salvini, Orbán, Strache – und Kurz?</td>\n",
       "      <td>4.807058</td>\n",
       "      <td>4.807058</td>\n",
       "    </tr>\n",
       "    <tr>\n",
       "      <th>2019-05-08</th>\n",
       "      <td>3.084184</td>\n",
       "      <td>Strache gratulierte Sportlern mit Inseraten um...</td>\n",
       "      <td>3.084184</td>\n",
       "      <td>3.084184</td>\n",
       "    </tr>\n",
       "  </tbody>\n",
       "</table>\n",
       "</div>"
      ],
      "text/plain": [
       "                 max                                          max_title  \\\n",
       "date                                                                      \n",
       "2019-05-01  4.806245  1. Mai in Wien: SPÖ fordert von Strache Rücktritt   \n",
       "2019-05-02  4.367188  Heinz-Christian Strache: Er will halt kein Lul...   \n",
       "2019-05-03  3.619891  FPÖ-Politikerin ist auf umstrittenes RFJ-Plaka...   \n",
       "2019-05-05  4.807058                Salvini, Orbán, Strache – und Kurz?   \n",
       "2019-05-08  3.084184  Strache gratulierte Sportlern mit Inseraten um...   \n",
       "\n",
       "                mean       min  \n",
       "date                            \n",
       "2019-05-01  4.806245  4.806245  \n",
       "2019-05-02  4.367188  4.367188  \n",
       "2019-05-03  3.298258  2.976626  \n",
       "2019-05-05  4.807058  4.807058  \n",
       "2019-05-08  3.084184  3.084184  "
      ]
     },
     "execution_count": 119,
     "metadata": {},
     "output_type": "execute_result"
    }
   ],
   "source": [
    "# prepare viz (relevant)\n",
    "viz_arr = [\n",
    "    (all_postings[all_postings.ID_Article == x]['ArticlePublishingDate'].iloc[0].split()[0],\n",
    "     np.mean(result[x]), \n",
    "     all_postings[all_postings.ID_Article == x]['ArticleTitle'].iloc[0])\n",
    "    for x in result.keys() if len(result[x]) > 0]\n",
    "\n",
    "viz_df = pd.DataFrame(viz_arr, columns = ['date', 'val', 'title'])\n",
    "viz_df = viz_df.sort_values(by='date')\n",
    "\n",
    "# group by date and min, mean, max\n",
    "grouped_viz_df = viz_df.groupby('date').max()\n",
    "grouped_viz_df['mean'] = viz_df.groupby('date').mean().val\n",
    "grouped_viz_df['minn ']= viz_df.groupby('date').min().val\n",
    "grouped_viz_df.columns = ['max', 'max_title', 'mean', 'min']\n",
    "grouped_viz_df.head()"
   ]
  },
  {
   "cell_type": "code",
   "execution_count": 120,
   "metadata": {},
   "outputs": [
    {
     "data": {
      "text/html": [
       "<div>\n",
       "<style scoped>\n",
       "    .dataframe tbody tr th:only-of-type {\n",
       "        vertical-align: middle;\n",
       "    }\n",
       "\n",
       "    .dataframe tbody tr th {\n",
       "        vertical-align: top;\n",
       "    }\n",
       "\n",
       "    .dataframe thead th {\n",
       "        text-align: right;\n",
       "    }\n",
       "</style>\n",
       "<table border=\"1\" class=\"dataframe\">\n",
       "  <thead>\n",
       "    <tr style=\"text-align: right;\">\n",
       "      <th></th>\n",
       "      <th>max</th>\n",
       "      <th>max_title</th>\n",
       "      <th>mean</th>\n",
       "      <th>min</th>\n",
       "    </tr>\n",
       "    <tr>\n",
       "      <th>date</th>\n",
       "      <th></th>\n",
       "      <th></th>\n",
       "      <th></th>\n",
       "      <th></th>\n",
       "    </tr>\n",
       "  </thead>\n",
       "  <tbody>\n",
       "    <tr>\n",
       "      <th>2019-05-01</th>\n",
       "      <td>4.005896</td>\n",
       "      <td>Ärgern und Staunen über Nichtabschaffung der k...</td>\n",
       "      <td>3.416208</td>\n",
       "      <td>2.659206</td>\n",
       "    </tr>\n",
       "    <tr>\n",
       "      <th>2019-05-02</th>\n",
       "      <td>4.668750</td>\n",
       "      <td>Was stört Sie am Großraumbüro?</td>\n",
       "      <td>3.370298</td>\n",
       "      <td>1.927495</td>\n",
       "    </tr>\n",
       "    <tr>\n",
       "      <th>2019-05-03</th>\n",
       "      <td>4.785981</td>\n",
       "      <td>Österreich droht unter der jetzigen Regierung ...</td>\n",
       "      <td>3.339855</td>\n",
       "      <td>2.243935</td>\n",
       "    </tr>\n",
       "    <tr>\n",
       "      <th>2019-05-04</th>\n",
       "      <td>4.845144</td>\n",
       "      <td>Wieso gelten Mao-T-Shirts als Spaßprodukt und ...</td>\n",
       "      <td>3.255261</td>\n",
       "      <td>1.764784</td>\n",
       "    </tr>\n",
       "    <tr>\n",
       "      <th>2019-05-05</th>\n",
       "      <td>4.942029</td>\n",
       "      <td>Österreichische Streamerinnen: \"Als Frau kämpf...</td>\n",
       "      <td>3.181648</td>\n",
       "      <td>2.110263</td>\n",
       "    </tr>\n",
       "  </tbody>\n",
       "</table>\n",
       "</div>"
      ],
      "text/plain": [
       "                 max                                          max_title  \\\n",
       "date                                                                      \n",
       "2019-05-01  4.005896  Ärgern und Staunen über Nichtabschaffung der k...   \n",
       "2019-05-02  4.668750                     Was stört Sie am Großraumbüro?   \n",
       "2019-05-03  4.785981  Österreich droht unter der jetzigen Regierung ...   \n",
       "2019-05-04  4.845144  Wieso gelten Mao-T-Shirts als Spaßprodukt und ...   \n",
       "2019-05-05  4.942029  Österreichische Streamerinnen: \"Als Frau kämpf...   \n",
       "\n",
       "                mean       min  \n",
       "date                            \n",
       "2019-05-01  3.416208  2.659206  \n",
       "2019-05-02  3.370298  1.927495  \n",
       "2019-05-03  3.339855  2.243935  \n",
       "2019-05-04  3.255261  1.764784  \n",
       "2019-05-05  3.181648  2.110263  "
      ]
     },
     "execution_count": 120,
     "metadata": {},
     "output_type": "execute_result"
    }
   ],
   "source": [
    "# prepare viz (irrelevant)\n",
    "irr_arr = [\n",
    "    (all_postings[all_postings.ID_Article == x]['ArticlePublishingDate'].iloc[0].split()[0],\n",
    "    np.mean(ir_result[x]),\n",
    "    all_postings[all_postings.ID_Article == x]['ArticleTitle'].iloc[0])\n",
    "    for x in ir_result if len(ir_result[x]) > 0]\n",
    "\n",
    "irr_df = pd.DataFrame(irr_arr, columns=['date', 'val', 'title'])\n",
    "irr_df = irr_df.sort_values(by='date')\n",
    "\n",
    "# grouped by date and min, mean, max\n",
    "grouped_irr_df = irr_df.groupby('date').max()\n",
    "grouped_irr_df['mean'] = irr_df.groupby('date').mean().val\n",
    "grouped_irr_df['minn ']= irr_df.groupby('date').min().val\n",
    "grouped_irr_df.columns = ['max', 'max_title', 'mean', 'min']\n",
    "grouped_irr_df.head()"
   ]
  },
  {
   "cell_type": "code",
   "execution_count": 131,
   "metadata": {},
   "outputs": [],
   "source": [
    "# prepare displayed articles\n",
    "rel_title_selection = (\n",
    "                        (grouped_viz_df.index == '2019-05-17') \n",
    "                       | (grouped_viz_df.index == '2019-05-01') \n",
    "                       #| (grouped_viz_df.index == '2019-05-05') \n",
    "                       #| (grouped_viz_df.index == '2019-05-20') \n",
    "                      )\n",
    "rel_titles = [grouped_viz_df.iloc[x].max_title if rel_title_selection[x] else ' ' for x in range(0,len(grouped_viz_df))]\n",
    "\n",
    "# prepare displayed irrelevant articles \n",
    "irr_title_selection = (\n",
    "                        (grouped_irr_df.index == '2019-05-25') \n",
    "                       #| (grouped_irr_df.index == '2019-05-12') \n",
    "                      )\n",
    "irr_titles = [grouped_irr_df.iloc[x].max_title if irr_title_selection[x] else ' ' for x in range(0,len(grouped_irr_df))]"
   ]
  },
  {
   "cell_type": "code",
   "execution_count": 162,
   "metadata": {},
   "outputs": [
    {
     "data": {
      "application/vnd.plotly.v1+json": {
       "config": {
        "plotlyServerURL": "https://plot.ly"
       },
       "data": [
        {
         "line": {
          "color": "rgb(0,100,80)",
          "shape": "spline",
          "smoothing": 0.5
         },
         "mode": "lines+markers+text",
         "name": "related",
         "text": [
          "1. Mai in Wien: SPÖ fordert von Strache Rücktritt",
          " ",
          " ",
          " ",
          " ",
          " ",
          " ",
          " ",
          "Verdecktes Strache-Video auf Ibiza: So besoffen kann keiner sein",
          " ",
          " ",
          " ",
          " ",
          " ",
          " ",
          " ",
          " ",
          " ",
          " ",
          " ",
          " ",
          " "
         ],
         "textposition": "top center",
         "type": "scatter",
         "x": [
          "2019-05-01",
          "2019-05-02",
          "2019-05-03",
          "2019-05-05",
          "2019-05-08",
          "2019-05-09",
          "2019-05-10",
          "2019-05-16",
          "2019-05-17",
          "2019-05-18",
          "2019-05-19",
          "2019-05-20",
          "2019-05-21",
          "2019-05-22",
          "2019-05-23",
          "2019-05-24",
          "2019-05-25",
          "2019-05-26",
          "2019-05-27",
          "2019-05-28",
          "2019-05-30",
          "2019-05-31"
         ],
         "y": [
          4.806245358897755,
          4.3671875,
          3.2982582794652116,
          4.807058358193573,
          3.084184350132626,
          2.891503825833131,
          2.9365391719670164,
          3.6556313859593894,
          3.919367427367675,
          3.0694785399454636,
          3.3007903117862254,
          2.5761638516840866,
          2.860615213174003,
          2.806008493994277,
          2.8939170824242115,
          3.0654576509185842,
          2.6008032008267654,
          2.9585571973471994,
          2.7767764989112713,
          2.9828213084308115,
          2.7933678755484426,
          3.0606807622488224
         ]
        },
        {
         "line": {
          "color": "rgb(80,0,100)",
          "shape": "spline",
          "smoothing": 0.5
         },
         "mode": "lines+markers+text",
         "name": "unrelated",
         "opacity": 0.5,
         "text": [
          " ",
          " ",
          " ",
          " ",
          " ",
          " ",
          " ",
          " ",
          " ",
          " ",
          " ",
          " ",
          " ",
          " ",
          " ",
          " ",
          " ",
          " ",
          " ",
          " ",
          " ",
          " ",
          " ",
          " ",
          "Welche Mehrheiten beim Misstrauensantrag möglich sind",
          " ",
          " ",
          " ",
          " ",
          " ",
          " "
         ],
         "textposition": "top center",
         "type": "scatter",
         "x": [
          "2019-05-01",
          "2019-05-02",
          "2019-05-03",
          "2019-05-04",
          "2019-05-05",
          "2019-05-06",
          "2019-05-07",
          "2019-05-08",
          "2019-05-09",
          "2019-05-10",
          "2019-05-11",
          "2019-05-12",
          "2019-05-13",
          "2019-05-14",
          "2019-05-15",
          "2019-05-16",
          "2019-05-17",
          "2019-05-18",
          "2019-05-19",
          "2019-05-20",
          "2019-05-21",
          "2019-05-22",
          "2019-05-23",
          "2019-05-24",
          "2019-05-25",
          "2019-05-26",
          "2019-05-27",
          "2019-05-28",
          "2019-05-29",
          "2019-05-30",
          "2019-05-31"
         ],
         "y": [
          3.416208360314897,
          3.370297888739046,
          3.3398551995311996,
          3.2552610591232916,
          3.1816482744708567,
          3.3338071087221284,
          3.1645952235453003,
          2.871759477560687,
          2.80443966140082,
          2.8311582993451037,
          2.703055051383979,
          2.6947027031337543,
          3.202335934086099,
          2.902263136997758,
          3.1668857315672163,
          3.365619063194833,
          3.137266418689888,
          2.918302057680084,
          3.22703202879589,
          3.065859686978914,
          3.1910412714121037,
          3.112553442514091,
          3.017156056666931,
          3.1589956207178886,
          3.7192594330154805,
          3.1830232467439306,
          3.271243992986767,
          3.101201287682123,
          3.1283065404923303,
          3.283312740649878,
          3.166959862199907
         ]
        },
        {
         "line": {
          "color": "rgb(0,100,80)",
          "dash": "dot"
         },
         "mode": "lines",
         "name": "related mean",
         "opacity": 0.5,
         "textposition": "top center",
         "type": "scatter",
         "x": [
          "2019-05-01",
          "2019-05-02",
          "2019-05-03",
          "2019-05-05",
          "2019-05-08",
          "2019-05-09",
          "2019-05-10",
          "2019-05-16",
          "2019-05-17",
          "2019-05-18",
          "2019-05-19",
          "2019-05-20",
          "2019-05-21",
          "2019-05-22",
          "2019-05-23",
          "2019-05-24",
          "2019-05-25",
          "2019-05-26",
          "2019-05-27",
          "2019-05-28",
          "2019-05-30",
          "2019-05-31"
         ],
         "y": [
          3.250518802048025,
          3.250518802048025,
          3.250518802048025,
          3.250518802048025,
          3.250518802048025,
          3.250518802048025,
          3.250518802048025,
          3.250518802048025,
          3.250518802048025,
          3.250518802048025,
          3.250518802048025,
          3.250518802048025,
          3.250518802048025,
          3.250518802048025,
          3.250518802048025,
          3.250518802048025,
          3.250518802048025,
          3.250518802048025,
          3.250518802048025,
          3.250518802048025,
          3.250518802048025,
          3.250518802048025
         ]
        },
        {
         "line": {
          "color": "rgb(80,0,100)",
          "dash": "dot"
         },
         "mode": "lines",
         "name": "unrelated mean",
         "opacity": 0.5,
         "textposition": "top center",
         "type": "scatter",
         "x": [
          "2019-05-01",
          "2019-05-02",
          "2019-05-03",
          "2019-05-05",
          "2019-05-08",
          "2019-05-09",
          "2019-05-10",
          "2019-05-16",
          "2019-05-17",
          "2019-05-18",
          "2019-05-19",
          "2019-05-20",
          "2019-05-21",
          "2019-05-22",
          "2019-05-23",
          "2019-05-24",
          "2019-05-25",
          "2019-05-26",
          "2019-05-27",
          "2019-05-28",
          "2019-05-30",
          "2019-05-31"
         ],
         "y": [
          3.1382388987207475,
          3.1382388987207475,
          3.1382388987207475,
          3.1382388987207475,
          3.1382388987207475,
          3.1382388987207475,
          3.1382388987207475,
          3.1382388987207475,
          3.1382388987207475,
          3.1382388987207475,
          3.1382388987207475,
          3.1382388987207475,
          3.1382388987207475,
          3.1382388987207475,
          3.1382388987207475,
          3.1382388987207475,
          3.1382388987207475,
          3.1382388987207475,
          3.1382388987207475,
          3.1382388987207475,
          3.1382388987207475,
          3.1382388987207475
         ]
        },
        {
         "fill": "toself",
         "fillcolor": "rgba(0,100,80,0.2)",
         "hoverinfo": "skip",
         "line": {
          "color": "rgba(255,255,255,0)"
         },
         "opacity": 0.8,
         "showlegend": false,
         "textposition": "top center",
         "type": "scatter",
         "x": [
          "2019-05-01",
          "2019-05-02",
          "2019-05-03",
          "2019-05-05",
          "2019-05-08",
          "2019-05-09",
          "2019-05-10",
          "2019-05-16",
          "2019-05-17",
          "2019-05-18",
          "2019-05-19",
          "2019-05-20",
          "2019-05-21",
          "2019-05-22",
          "2019-05-23",
          "2019-05-24",
          "2019-05-25",
          "2019-05-26",
          "2019-05-27",
          "2019-05-28",
          "2019-05-30",
          "2019-05-31",
          "2019-05-31",
          "2019-05-30",
          "2019-05-28",
          "2019-05-27",
          "2019-05-26",
          "2019-05-25",
          "2019-05-24",
          "2019-05-23",
          "2019-05-22",
          "2019-05-21",
          "2019-05-20",
          "2019-05-19",
          "2019-05-18",
          "2019-05-17",
          "2019-05-16",
          "2019-05-10",
          "2019-05-09",
          "2019-05-08",
          "2019-05-05",
          "2019-05-03",
          "2019-05-02",
          "2019-05-01"
         ],
         "y": [
          4.806245358897755,
          4.3671875,
          3.6198908943391137,
          4.807058358193573,
          3.084184350132626,
          2.891503825833131,
          3.045177045177045,
          3.746412941091629,
          4.777549768767479,
          4.359981657455578,
          3.6351594691512403,
          2.8576128602365483,
          3.71155761457562,
          3.1743896062992083,
          3.7452100840336136,
          3.8460645519715517,
          3.2363890103491832,
          4.0841493268053854,
          3.1044295540796965,
          3.44589833812489,
          3.172525090717721,
          3.0606807622488224,
          3.0606807622488224,
          2.5354473883866233,
          2.6145467520082115,
          2.466666666666667,
          2.4875052051576687,
          1.9652173913043478,
          2.051189454742084,
          1.6862745098039216,
          2.237079353609177,
          2.130656237191987,
          2.0306204467857216,
          3.082639625143074,
          2.2016184871040334,
          3.3432945055479917,
          3.5648498308271503,
          2.8279012987569883,
          2.891503825833131,
          3.084184350132626,
          4.807058358193573,
          2.97662566459131,
          4.3671875,
          4.806245358897755
         ]
        },
        {
         "fill": "toself",
         "fillcolor": "rgba(80,0,100,0.2)",
         "hoverinfo": "skip",
         "line": {
          "color": "rgba(255,255,255,0)"
         },
         "opacity": 0.2,
         "showlegend": false,
         "textposition": "top center",
         "type": "scatter",
         "x": [
          "2019-05-01",
          "2019-05-02",
          "2019-05-03",
          "2019-05-04",
          "2019-05-05",
          "2019-05-06",
          "2019-05-07",
          "2019-05-08",
          "2019-05-09",
          "2019-05-10",
          "2019-05-11",
          "2019-05-12",
          "2019-05-13",
          "2019-05-14",
          "2019-05-15",
          "2019-05-16",
          "2019-05-17",
          "2019-05-18",
          "2019-05-19",
          "2019-05-20",
          "2019-05-21",
          "2019-05-22",
          "2019-05-23",
          "2019-05-24",
          "2019-05-25",
          "2019-05-26",
          "2019-05-27",
          "2019-05-28",
          "2019-05-29",
          "2019-05-30",
          "2019-05-31",
          "2019-05-31",
          "2019-05-30",
          "2019-05-29",
          "2019-05-28",
          "2019-05-27",
          "2019-05-26",
          "2019-05-25",
          "2019-05-24",
          "2019-05-23",
          "2019-05-22",
          "2019-05-21",
          "2019-05-20",
          "2019-05-19",
          "2019-05-18",
          "2019-05-17",
          "2019-05-16",
          "2019-05-15",
          "2019-05-14",
          "2019-05-13",
          "2019-05-12",
          "2019-05-11",
          "2019-05-10",
          "2019-05-09",
          "2019-05-08",
          "2019-05-07",
          "2019-05-06",
          "2019-05-05",
          "2019-05-04",
          "2019-05-03",
          "2019-05-02",
          "2019-05-01"
         ],
         "y": [
          4.0058957136730875,
          4.66875,
          4.785981488744705,
          4.845144254675305,
          4.942028985507246,
          4.7324110518007725,
          5.580978549634386,
          4.193443385531735,
          4.891233766233766,
          4.185902821200369,
          4.094550823512111,
          3.978933843178906,
          4.752380952380952,
          4.035622479147659,
          4.891736321207932,
          6.167530816038393,
          4.394230769230769,
          3.784813418904328,
          4.566954741392788,
          4.214523611238425,
          5.120121625725315,
          4.115508444293808,
          5.321673384801076,
          5.033412469645486,
          5.505246967835032,
          4.186018214064306,
          4.499161662429629,
          4.663015196176646,
          5.023660714285715,
          4.575655440889436,
          4.166707134580168,
          2.3629097482603285,
          2.196261682242991,
          1.6875,
          1.696078431372549,
          1.8905074486250957,
          1.8009345362017115,
          2.4444444444444446,
          1.9047619047619047,
          2.1517857142857144,
          2.2966904527196235,
          1.8,
          2.230769230769231,
          1.9528301886792452,
          1.1478260869565218,
          2.432926829268293,
          1.8620689655172413,
          2.0194174757281553,
          1.882882882882883,
          1.7128712871287128,
          1.7064676616915422,
          1.5714285714285714,
          1.6037735849056605,
          1.3603603603603605,
          1.6044776119402986,
          2.0934579439252334,
          1.8433862433862434,
          2.1102627257799673,
          1.764783759929391,
          2.2439349516995524,
          1.9274952320406866,
          2.6592059984419345
         ]
        }
       ],
       "layout": {
        "shapes": [
         {
          "fillcolor": "LightSalmon",
          "layer": "below",
          "line": {
           "width": 2
          },
          "opacity": 0.8,
          "x0": "2019-05-17",
          "x1": "2019-05-17",
          "y0": 0,
          "y1": 7
         }
        ],
        "template": {
         "data": {
          "bar": [
           {
            "error_x": {
             "color": "#2a3f5f"
            },
            "error_y": {
             "color": "#2a3f5f"
            },
            "marker": {
             "line": {
              "color": "#E5ECF6",
              "width": 0.5
             }
            },
            "type": "bar"
           }
          ],
          "barpolar": [
           {
            "marker": {
             "line": {
              "color": "#E5ECF6",
              "width": 0.5
             }
            },
            "type": "barpolar"
           }
          ],
          "carpet": [
           {
            "aaxis": {
             "endlinecolor": "#2a3f5f",
             "gridcolor": "white",
             "linecolor": "white",
             "minorgridcolor": "white",
             "startlinecolor": "#2a3f5f"
            },
            "baxis": {
             "endlinecolor": "#2a3f5f",
             "gridcolor": "white",
             "linecolor": "white",
             "minorgridcolor": "white",
             "startlinecolor": "#2a3f5f"
            },
            "type": "carpet"
           }
          ],
          "choropleth": [
           {
            "colorbar": {
             "outlinewidth": 0,
             "ticks": ""
            },
            "type": "choropleth"
           }
          ],
          "contour": [
           {
            "colorbar": {
             "outlinewidth": 0,
             "ticks": ""
            },
            "colorscale": [
             [
              0,
              "#0d0887"
             ],
             [
              0.1111111111111111,
              "#46039f"
             ],
             [
              0.2222222222222222,
              "#7201a8"
             ],
             [
              0.3333333333333333,
              "#9c179e"
             ],
             [
              0.4444444444444444,
              "#bd3786"
             ],
             [
              0.5555555555555556,
              "#d8576b"
             ],
             [
              0.6666666666666666,
              "#ed7953"
             ],
             [
              0.7777777777777778,
              "#fb9f3a"
             ],
             [
              0.8888888888888888,
              "#fdca26"
             ],
             [
              1,
              "#f0f921"
             ]
            ],
            "type": "contour"
           }
          ],
          "contourcarpet": [
           {
            "colorbar": {
             "outlinewidth": 0,
             "ticks": ""
            },
            "type": "contourcarpet"
           }
          ],
          "heatmap": [
           {
            "colorbar": {
             "outlinewidth": 0,
             "ticks": ""
            },
            "colorscale": [
             [
              0,
              "#0d0887"
             ],
             [
              0.1111111111111111,
              "#46039f"
             ],
             [
              0.2222222222222222,
              "#7201a8"
             ],
             [
              0.3333333333333333,
              "#9c179e"
             ],
             [
              0.4444444444444444,
              "#bd3786"
             ],
             [
              0.5555555555555556,
              "#d8576b"
             ],
             [
              0.6666666666666666,
              "#ed7953"
             ],
             [
              0.7777777777777778,
              "#fb9f3a"
             ],
             [
              0.8888888888888888,
              "#fdca26"
             ],
             [
              1,
              "#f0f921"
             ]
            ],
            "type": "heatmap"
           }
          ],
          "heatmapgl": [
           {
            "colorbar": {
             "outlinewidth": 0,
             "ticks": ""
            },
            "colorscale": [
             [
              0,
              "#0d0887"
             ],
             [
              0.1111111111111111,
              "#46039f"
             ],
             [
              0.2222222222222222,
              "#7201a8"
             ],
             [
              0.3333333333333333,
              "#9c179e"
             ],
             [
              0.4444444444444444,
              "#bd3786"
             ],
             [
              0.5555555555555556,
              "#d8576b"
             ],
             [
              0.6666666666666666,
              "#ed7953"
             ],
             [
              0.7777777777777778,
              "#fb9f3a"
             ],
             [
              0.8888888888888888,
              "#fdca26"
             ],
             [
              1,
              "#f0f921"
             ]
            ],
            "type": "heatmapgl"
           }
          ],
          "histogram": [
           {
            "marker": {
             "colorbar": {
              "outlinewidth": 0,
              "ticks": ""
             }
            },
            "type": "histogram"
           }
          ],
          "histogram2d": [
           {
            "colorbar": {
             "outlinewidth": 0,
             "ticks": ""
            },
            "colorscale": [
             [
              0,
              "#0d0887"
             ],
             [
              0.1111111111111111,
              "#46039f"
             ],
             [
              0.2222222222222222,
              "#7201a8"
             ],
             [
              0.3333333333333333,
              "#9c179e"
             ],
             [
              0.4444444444444444,
              "#bd3786"
             ],
             [
              0.5555555555555556,
              "#d8576b"
             ],
             [
              0.6666666666666666,
              "#ed7953"
             ],
             [
              0.7777777777777778,
              "#fb9f3a"
             ],
             [
              0.8888888888888888,
              "#fdca26"
             ],
             [
              1,
              "#f0f921"
             ]
            ],
            "type": "histogram2d"
           }
          ],
          "histogram2dcontour": [
           {
            "colorbar": {
             "outlinewidth": 0,
             "ticks": ""
            },
            "colorscale": [
             [
              0,
              "#0d0887"
             ],
             [
              0.1111111111111111,
              "#46039f"
             ],
             [
              0.2222222222222222,
              "#7201a8"
             ],
             [
              0.3333333333333333,
              "#9c179e"
             ],
             [
              0.4444444444444444,
              "#bd3786"
             ],
             [
              0.5555555555555556,
              "#d8576b"
             ],
             [
              0.6666666666666666,
              "#ed7953"
             ],
             [
              0.7777777777777778,
              "#fb9f3a"
             ],
             [
              0.8888888888888888,
              "#fdca26"
             ],
             [
              1,
              "#f0f921"
             ]
            ],
            "type": "histogram2dcontour"
           }
          ],
          "mesh3d": [
           {
            "colorbar": {
             "outlinewidth": 0,
             "ticks": ""
            },
            "type": "mesh3d"
           }
          ],
          "parcoords": [
           {
            "line": {
             "colorbar": {
              "outlinewidth": 0,
              "ticks": ""
             }
            },
            "type": "parcoords"
           }
          ],
          "pie": [
           {
            "automargin": true,
            "type": "pie"
           }
          ],
          "scatter": [
           {
            "marker": {
             "colorbar": {
              "outlinewidth": 0,
              "ticks": ""
             }
            },
            "type": "scatter"
           }
          ],
          "scatter3d": [
           {
            "line": {
             "colorbar": {
              "outlinewidth": 0,
              "ticks": ""
             }
            },
            "marker": {
             "colorbar": {
              "outlinewidth": 0,
              "ticks": ""
             }
            },
            "type": "scatter3d"
           }
          ],
          "scattercarpet": [
           {
            "marker": {
             "colorbar": {
              "outlinewidth": 0,
              "ticks": ""
             }
            },
            "type": "scattercarpet"
           }
          ],
          "scattergeo": [
           {
            "marker": {
             "colorbar": {
              "outlinewidth": 0,
              "ticks": ""
             }
            },
            "type": "scattergeo"
           }
          ],
          "scattergl": [
           {
            "marker": {
             "colorbar": {
              "outlinewidth": 0,
              "ticks": ""
             }
            },
            "type": "scattergl"
           }
          ],
          "scattermapbox": [
           {
            "marker": {
             "colorbar": {
              "outlinewidth": 0,
              "ticks": ""
             }
            },
            "type": "scattermapbox"
           }
          ],
          "scatterpolar": [
           {
            "marker": {
             "colorbar": {
              "outlinewidth": 0,
              "ticks": ""
             }
            },
            "type": "scatterpolar"
           }
          ],
          "scatterpolargl": [
           {
            "marker": {
             "colorbar": {
              "outlinewidth": 0,
              "ticks": ""
             }
            },
            "type": "scatterpolargl"
           }
          ],
          "scatterternary": [
           {
            "marker": {
             "colorbar": {
              "outlinewidth": 0,
              "ticks": ""
             }
            },
            "type": "scatterternary"
           }
          ],
          "surface": [
           {
            "colorbar": {
             "outlinewidth": 0,
             "ticks": ""
            },
            "colorscale": [
             [
              0,
              "#0d0887"
             ],
             [
              0.1111111111111111,
              "#46039f"
             ],
             [
              0.2222222222222222,
              "#7201a8"
             ],
             [
              0.3333333333333333,
              "#9c179e"
             ],
             [
              0.4444444444444444,
              "#bd3786"
             ],
             [
              0.5555555555555556,
              "#d8576b"
             ],
             [
              0.6666666666666666,
              "#ed7953"
             ],
             [
              0.7777777777777778,
              "#fb9f3a"
             ],
             [
              0.8888888888888888,
              "#fdca26"
             ],
             [
              1,
              "#f0f921"
             ]
            ],
            "type": "surface"
           }
          ],
          "table": [
           {
            "cells": {
             "fill": {
              "color": "#EBF0F8"
             },
             "line": {
              "color": "white"
             }
            },
            "header": {
             "fill": {
              "color": "#C8D4E3"
             },
             "line": {
              "color": "white"
             }
            },
            "type": "table"
           }
          ]
         },
         "layout": {
          "annotationdefaults": {
           "arrowcolor": "#2a3f5f",
           "arrowhead": 0,
           "arrowwidth": 1
          },
          "coloraxis": {
           "colorbar": {
            "outlinewidth": 0,
            "ticks": ""
           }
          },
          "colorscale": {
           "diverging": [
            [
             0,
             "#8e0152"
            ],
            [
             0.1,
             "#c51b7d"
            ],
            [
             0.2,
             "#de77ae"
            ],
            [
             0.3,
             "#f1b6da"
            ],
            [
             0.4,
             "#fde0ef"
            ],
            [
             0.5,
             "#f7f7f7"
            ],
            [
             0.6,
             "#e6f5d0"
            ],
            [
             0.7,
             "#b8e186"
            ],
            [
             0.8,
             "#7fbc41"
            ],
            [
             0.9,
             "#4d9221"
            ],
            [
             1,
             "#276419"
            ]
           ],
           "sequential": [
            [
             0,
             "#0d0887"
            ],
            [
             0.1111111111111111,
             "#46039f"
            ],
            [
             0.2222222222222222,
             "#7201a8"
            ],
            [
             0.3333333333333333,
             "#9c179e"
            ],
            [
             0.4444444444444444,
             "#bd3786"
            ],
            [
             0.5555555555555556,
             "#d8576b"
            ],
            [
             0.6666666666666666,
             "#ed7953"
            ],
            [
             0.7777777777777778,
             "#fb9f3a"
            ],
            [
             0.8888888888888888,
             "#fdca26"
            ],
            [
             1,
             "#f0f921"
            ]
           ],
           "sequentialminus": [
            [
             0,
             "#0d0887"
            ],
            [
             0.1111111111111111,
             "#46039f"
            ],
            [
             0.2222222222222222,
             "#7201a8"
            ],
            [
             0.3333333333333333,
             "#9c179e"
            ],
            [
             0.4444444444444444,
             "#bd3786"
            ],
            [
             0.5555555555555556,
             "#d8576b"
            ],
            [
             0.6666666666666666,
             "#ed7953"
            ],
            [
             0.7777777777777778,
             "#fb9f3a"
            ],
            [
             0.8888888888888888,
             "#fdca26"
            ],
            [
             1,
             "#f0f921"
            ]
           ]
          },
          "colorway": [
           "#636efa",
           "#EF553B",
           "#00cc96",
           "#ab63fa",
           "#FFA15A",
           "#19d3f3",
           "#FF6692",
           "#B6E880",
           "#FF97FF",
           "#FECB52"
          ],
          "font": {
           "color": "#2a3f5f"
          },
          "geo": {
           "bgcolor": "white",
           "lakecolor": "white",
           "landcolor": "#E5ECF6",
           "showlakes": true,
           "showland": true,
           "subunitcolor": "white"
          },
          "hoverlabel": {
           "align": "left"
          },
          "hovermode": "closest",
          "mapbox": {
           "style": "light"
          },
          "paper_bgcolor": "white",
          "plot_bgcolor": "#E5ECF6",
          "polar": {
           "angularaxis": {
            "gridcolor": "white",
            "linecolor": "white",
            "ticks": ""
           },
           "bgcolor": "#E5ECF6",
           "radialaxis": {
            "gridcolor": "white",
            "linecolor": "white",
            "ticks": ""
           }
          },
          "scene": {
           "xaxis": {
            "backgroundcolor": "#E5ECF6",
            "gridcolor": "white",
            "gridwidth": 2,
            "linecolor": "white",
            "showbackground": true,
            "ticks": "",
            "zerolinecolor": "white"
           },
           "yaxis": {
            "backgroundcolor": "#E5ECF6",
            "gridcolor": "white",
            "gridwidth": 2,
            "linecolor": "white",
            "showbackground": true,
            "ticks": "",
            "zerolinecolor": "white"
           },
           "zaxis": {
            "backgroundcolor": "#E5ECF6",
            "gridcolor": "white",
            "gridwidth": 2,
            "linecolor": "white",
            "showbackground": true,
            "ticks": "",
            "zerolinecolor": "white"
           }
          },
          "shapedefaults": {
           "line": {
            "color": "#2a3f5f"
           }
          },
          "ternary": {
           "aaxis": {
            "gridcolor": "white",
            "linecolor": "white",
            "ticks": ""
           },
           "baxis": {
            "gridcolor": "white",
            "linecolor": "white",
            "ticks": ""
           },
           "bgcolor": "#E5ECF6",
           "caxis": {
            "gridcolor": "white",
            "linecolor": "white",
            "ticks": ""
           }
          },
          "title": {
           "x": 0.05
          },
          "xaxis": {
           "automargin": true,
           "gridcolor": "white",
           "linecolor": "white",
           "ticks": "",
           "title": {
            "standoff": 15
           },
           "zerolinecolor": "white",
           "zerolinewidth": 2
          },
          "yaxis": {
           "automargin": true,
           "gridcolor": "white",
           "linecolor": "white",
           "ticks": "",
           "title": {
            "standoff": 15
           },
           "zerolinecolor": "white",
           "zerolinewidth": 2
          }
         }
        },
        "title": {
         "text": "Community Activity: Ibizagate related vs unrelated"
        },
        "yaxis": {
         "title": {
          "text": "avg community out-degree"
         }
        }
       }
      },
      "text/html": [
       "<div>                            <div id=\"79731e67-df96-465b-abb2-82a2620c7cc5\" class=\"plotly-graph-div\" style=\"height:525px; width:100%;\"></div>            <script type=\"text/javascript\">                require([\"plotly\"], function(Plotly) {                    window.PLOTLYENV=window.PLOTLYENV || {};                                    if (document.getElementById(\"79731e67-df96-465b-abb2-82a2620c7cc5\")) {                    Plotly.newPlot(                        \"79731e67-df96-465b-abb2-82a2620c7cc5\",                        [{\"line\": {\"color\": \"rgb(0,100,80)\", \"shape\": \"spline\", \"smoothing\": 0.5}, \"mode\": \"lines+markers+text\", \"name\": \"related\", \"text\": [\"1. Mai in Wien: SP\\u00d6 fordert von Strache R\\u00fccktritt\", \" \", \" \", \" \", \" \", \" \", \" \", \" \", \"Verdecktes Strache-Video auf Ibiza: So besoffen kann keiner sein\", \" \", \" \", \" \", \" \", \" \", \" \", \" \", \" \", \" \", \" \", \" \", \" \", \" \"], \"textposition\": \"top center\", \"type\": \"scatter\", \"x\": [\"2019-05-01\", \"2019-05-02\", \"2019-05-03\", \"2019-05-05\", \"2019-05-08\", \"2019-05-09\", \"2019-05-10\", \"2019-05-16\", \"2019-05-17\", \"2019-05-18\", \"2019-05-19\", \"2019-05-20\", \"2019-05-21\", \"2019-05-22\", \"2019-05-23\", \"2019-05-24\", \"2019-05-25\", \"2019-05-26\", \"2019-05-27\", \"2019-05-28\", \"2019-05-30\", \"2019-05-31\"], \"y\": [4.806245358897755, 4.3671875, 3.2982582794652116, 4.807058358193573, 3.084184350132626, 2.891503825833131, 2.9365391719670164, 3.6556313859593894, 3.919367427367675, 3.0694785399454636, 3.3007903117862254, 2.5761638516840866, 2.860615213174003, 2.806008493994277, 2.8939170824242115, 3.0654576509185842, 2.6008032008267654, 2.9585571973471994, 2.7767764989112713, 2.9828213084308115, 2.7933678755484426, 3.0606807622488224]}, {\"line\": {\"color\": \"rgb(80,0,100)\", \"shape\": \"spline\", \"smoothing\": 0.5}, \"mode\": \"lines+markers+text\", \"name\": \"unrelated\", \"opacity\": 0.5, \"text\": [\" \", \" \", \" \", \" \", \" \", \" \", \" \", \" \", \" \", \" \", \" \", \" \", \" \", \" \", \" \", \" \", \" \", \" \", \" \", \" \", \" \", \" \", \" \", \" \", \"Welche Mehrheiten beim Misstrauensantrag m\\u00f6glich sind\", \" \", \" \", \" \", \" \", \" \", \" \"], \"textposition\": \"top center\", \"type\": \"scatter\", \"x\": [\"2019-05-01\", \"2019-05-02\", \"2019-05-03\", \"2019-05-04\", \"2019-05-05\", \"2019-05-06\", \"2019-05-07\", \"2019-05-08\", \"2019-05-09\", \"2019-05-10\", \"2019-05-11\", \"2019-05-12\", \"2019-05-13\", \"2019-05-14\", \"2019-05-15\", \"2019-05-16\", \"2019-05-17\", \"2019-05-18\", \"2019-05-19\", \"2019-05-20\", \"2019-05-21\", \"2019-05-22\", \"2019-05-23\", \"2019-05-24\", \"2019-05-25\", \"2019-05-26\", \"2019-05-27\", \"2019-05-28\", \"2019-05-29\", \"2019-05-30\", \"2019-05-31\"], \"y\": [3.416208360314897, 3.370297888739046, 3.3398551995311996, 3.2552610591232916, 3.1816482744708567, 3.3338071087221284, 3.1645952235453003, 2.871759477560687, 2.80443966140082, 2.8311582993451037, 2.703055051383979, 2.6947027031337543, 3.202335934086099, 2.902263136997758, 3.1668857315672163, 3.365619063194833, 3.137266418689888, 2.918302057680084, 3.22703202879589, 3.065859686978914, 3.1910412714121037, 3.112553442514091, 3.017156056666931, 3.1589956207178886, 3.7192594330154805, 3.1830232467439306, 3.271243992986767, 3.101201287682123, 3.1283065404923303, 3.283312740649878, 3.166959862199907]}, {\"line\": {\"color\": \"rgb(0,100,80)\", \"dash\": \"dot\"}, \"mode\": \"lines\", \"name\": \"related mean\", \"opacity\": 0.5, \"textposition\": \"top center\", \"type\": \"scatter\", \"x\": [\"2019-05-01\", \"2019-05-02\", \"2019-05-03\", \"2019-05-05\", \"2019-05-08\", \"2019-05-09\", \"2019-05-10\", \"2019-05-16\", \"2019-05-17\", \"2019-05-18\", \"2019-05-19\", \"2019-05-20\", \"2019-05-21\", \"2019-05-22\", \"2019-05-23\", \"2019-05-24\", \"2019-05-25\", \"2019-05-26\", \"2019-05-27\", \"2019-05-28\", \"2019-05-30\", \"2019-05-31\"], \"y\": [3.250518802048025, 3.250518802048025, 3.250518802048025, 3.250518802048025, 3.250518802048025, 3.250518802048025, 3.250518802048025, 3.250518802048025, 3.250518802048025, 3.250518802048025, 3.250518802048025, 3.250518802048025, 3.250518802048025, 3.250518802048025, 3.250518802048025, 3.250518802048025, 3.250518802048025, 3.250518802048025, 3.250518802048025, 3.250518802048025, 3.250518802048025, 3.250518802048025]}, {\"line\": {\"color\": \"rgb(80,0,100)\", \"dash\": \"dot\"}, \"mode\": \"lines\", \"name\": \"unrelated mean\", \"opacity\": 0.5, \"textposition\": \"top center\", \"type\": \"scatter\", \"x\": [\"2019-05-01\", \"2019-05-02\", \"2019-05-03\", \"2019-05-05\", \"2019-05-08\", \"2019-05-09\", \"2019-05-10\", \"2019-05-16\", \"2019-05-17\", \"2019-05-18\", \"2019-05-19\", \"2019-05-20\", \"2019-05-21\", \"2019-05-22\", \"2019-05-23\", \"2019-05-24\", \"2019-05-25\", \"2019-05-26\", \"2019-05-27\", \"2019-05-28\", \"2019-05-30\", \"2019-05-31\"], \"y\": [3.1382388987207475, 3.1382388987207475, 3.1382388987207475, 3.1382388987207475, 3.1382388987207475, 3.1382388987207475, 3.1382388987207475, 3.1382388987207475, 3.1382388987207475, 3.1382388987207475, 3.1382388987207475, 3.1382388987207475, 3.1382388987207475, 3.1382388987207475, 3.1382388987207475, 3.1382388987207475, 3.1382388987207475, 3.1382388987207475, 3.1382388987207475, 3.1382388987207475, 3.1382388987207475, 3.1382388987207475]}, {\"fill\": \"toself\", \"fillcolor\": \"rgba(0,100,80,0.2)\", \"hoverinfo\": \"skip\", \"line\": {\"color\": \"rgba(255,255,255,0)\"}, \"opacity\": 0.8, \"showlegend\": false, \"textposition\": \"top center\", \"type\": \"scatter\", \"x\": [\"2019-05-01\", \"2019-05-02\", \"2019-05-03\", \"2019-05-05\", \"2019-05-08\", \"2019-05-09\", \"2019-05-10\", \"2019-05-16\", \"2019-05-17\", \"2019-05-18\", \"2019-05-19\", \"2019-05-20\", \"2019-05-21\", \"2019-05-22\", \"2019-05-23\", \"2019-05-24\", \"2019-05-25\", \"2019-05-26\", \"2019-05-27\", \"2019-05-28\", \"2019-05-30\", \"2019-05-31\", \"2019-05-31\", \"2019-05-30\", \"2019-05-28\", \"2019-05-27\", \"2019-05-26\", \"2019-05-25\", \"2019-05-24\", \"2019-05-23\", \"2019-05-22\", \"2019-05-21\", \"2019-05-20\", \"2019-05-19\", \"2019-05-18\", \"2019-05-17\", \"2019-05-16\", \"2019-05-10\", \"2019-05-09\", \"2019-05-08\", \"2019-05-05\", \"2019-05-03\", \"2019-05-02\", \"2019-05-01\"], \"y\": [4.806245358897755, 4.3671875, 3.6198908943391137, 4.807058358193573, 3.084184350132626, 2.891503825833131, 3.045177045177045, 3.746412941091629, 4.777549768767479, 4.359981657455578, 3.6351594691512403, 2.8576128602365483, 3.71155761457562, 3.1743896062992083, 3.7452100840336136, 3.8460645519715517, 3.2363890103491832, 4.0841493268053854, 3.1044295540796965, 3.44589833812489, 3.172525090717721, 3.0606807622488224, 3.0606807622488224, 2.5354473883866233, 2.6145467520082115, 2.466666666666667, 2.4875052051576687, 1.9652173913043478, 2.051189454742084, 1.6862745098039216, 2.237079353609177, 2.130656237191987, 2.0306204467857216, 3.082639625143074, 2.2016184871040334, 3.3432945055479917, 3.5648498308271503, 2.8279012987569883, 2.891503825833131, 3.084184350132626, 4.807058358193573, 2.97662566459131, 4.3671875, 4.806245358897755]}, {\"fill\": \"toself\", \"fillcolor\": \"rgba(80,0,100,0.2)\", \"hoverinfo\": \"skip\", \"line\": {\"color\": \"rgba(255,255,255,0)\"}, \"opacity\": 0.2, \"showlegend\": false, \"textposition\": \"top center\", \"type\": \"scatter\", \"x\": [\"2019-05-01\", \"2019-05-02\", \"2019-05-03\", \"2019-05-04\", \"2019-05-05\", \"2019-05-06\", \"2019-05-07\", \"2019-05-08\", \"2019-05-09\", \"2019-05-10\", \"2019-05-11\", \"2019-05-12\", \"2019-05-13\", \"2019-05-14\", \"2019-05-15\", \"2019-05-16\", \"2019-05-17\", \"2019-05-18\", \"2019-05-19\", \"2019-05-20\", \"2019-05-21\", \"2019-05-22\", \"2019-05-23\", \"2019-05-24\", \"2019-05-25\", \"2019-05-26\", \"2019-05-27\", \"2019-05-28\", \"2019-05-29\", \"2019-05-30\", \"2019-05-31\", \"2019-05-31\", \"2019-05-30\", \"2019-05-29\", \"2019-05-28\", \"2019-05-27\", \"2019-05-26\", \"2019-05-25\", \"2019-05-24\", \"2019-05-23\", \"2019-05-22\", \"2019-05-21\", \"2019-05-20\", \"2019-05-19\", \"2019-05-18\", \"2019-05-17\", \"2019-05-16\", \"2019-05-15\", \"2019-05-14\", \"2019-05-13\", \"2019-05-12\", \"2019-05-11\", \"2019-05-10\", \"2019-05-09\", \"2019-05-08\", \"2019-05-07\", \"2019-05-06\", \"2019-05-05\", \"2019-05-04\", \"2019-05-03\", \"2019-05-02\", \"2019-05-01\"], \"y\": [4.0058957136730875, 4.66875, 4.785981488744705, 4.845144254675305, 4.942028985507246, 4.7324110518007725, 5.580978549634386, 4.193443385531735, 4.891233766233766, 4.185902821200369, 4.094550823512111, 3.978933843178906, 4.752380952380952, 4.035622479147659, 4.891736321207932, 6.167530816038393, 4.394230769230769, 3.784813418904328, 4.566954741392788, 4.214523611238425, 5.120121625725315, 4.115508444293808, 5.321673384801076, 5.033412469645486, 5.505246967835032, 4.186018214064306, 4.499161662429629, 4.663015196176646, 5.023660714285715, 4.575655440889436, 4.166707134580168, 2.3629097482603285, 2.196261682242991, 1.6875, 1.696078431372549, 1.8905074486250957, 1.8009345362017115, 2.4444444444444446, 1.9047619047619047, 2.1517857142857144, 2.2966904527196235, 1.8, 2.230769230769231, 1.9528301886792452, 1.1478260869565218, 2.432926829268293, 1.8620689655172413, 2.0194174757281553, 1.882882882882883, 1.7128712871287128, 1.7064676616915422, 1.5714285714285714, 1.6037735849056605, 1.3603603603603605, 1.6044776119402986, 2.0934579439252334, 1.8433862433862434, 2.1102627257799673, 1.764783759929391, 2.2439349516995524, 1.9274952320406866, 2.6592059984419345]}],                        {\"shapes\": [{\"fillcolor\": \"LightSalmon\", \"layer\": \"below\", \"line\": {\"width\": 2}, \"opacity\": 0.8, \"x0\": \"2019-05-17\", \"x1\": \"2019-05-17\", \"y0\": 0, \"y1\": 7}], \"template\": {\"data\": {\"bar\": [{\"error_x\": {\"color\": \"#2a3f5f\"}, \"error_y\": {\"color\": \"#2a3f5f\"}, \"marker\": {\"line\": {\"color\": \"#E5ECF6\", \"width\": 0.5}}, \"type\": \"bar\"}], \"barpolar\": [{\"marker\": {\"line\": {\"color\": \"#E5ECF6\", \"width\": 0.5}}, \"type\": \"barpolar\"}], \"carpet\": [{\"aaxis\": {\"endlinecolor\": \"#2a3f5f\", \"gridcolor\": \"white\", \"linecolor\": \"white\", \"minorgridcolor\": \"white\", \"startlinecolor\": \"#2a3f5f\"}, \"baxis\": {\"endlinecolor\": \"#2a3f5f\", \"gridcolor\": \"white\", \"linecolor\": \"white\", \"minorgridcolor\": \"white\", \"startlinecolor\": \"#2a3f5f\"}, \"type\": \"carpet\"}], \"choropleth\": [{\"colorbar\": {\"outlinewidth\": 0, \"ticks\": \"\"}, \"type\": \"choropleth\"}], \"contour\": [{\"colorbar\": {\"outlinewidth\": 0, \"ticks\": \"\"}, \"colorscale\": [[0.0, \"#0d0887\"], [0.1111111111111111, \"#46039f\"], [0.2222222222222222, \"#7201a8\"], [0.3333333333333333, \"#9c179e\"], [0.4444444444444444, \"#bd3786\"], [0.5555555555555556, \"#d8576b\"], [0.6666666666666666, \"#ed7953\"], [0.7777777777777778, \"#fb9f3a\"], [0.8888888888888888, \"#fdca26\"], [1.0, \"#f0f921\"]], \"type\": \"contour\"}], \"contourcarpet\": [{\"colorbar\": {\"outlinewidth\": 0, \"ticks\": \"\"}, \"type\": \"contourcarpet\"}], \"heatmap\": [{\"colorbar\": {\"outlinewidth\": 0, \"ticks\": \"\"}, \"colorscale\": [[0.0, \"#0d0887\"], [0.1111111111111111, \"#46039f\"], [0.2222222222222222, \"#7201a8\"], [0.3333333333333333, \"#9c179e\"], [0.4444444444444444, \"#bd3786\"], [0.5555555555555556, \"#d8576b\"], [0.6666666666666666, \"#ed7953\"], [0.7777777777777778, \"#fb9f3a\"], [0.8888888888888888, \"#fdca26\"], [1.0, \"#f0f921\"]], \"type\": \"heatmap\"}], \"heatmapgl\": [{\"colorbar\": {\"outlinewidth\": 0, \"ticks\": \"\"}, \"colorscale\": [[0.0, \"#0d0887\"], [0.1111111111111111, \"#46039f\"], [0.2222222222222222, \"#7201a8\"], [0.3333333333333333, \"#9c179e\"], [0.4444444444444444, \"#bd3786\"], [0.5555555555555556, \"#d8576b\"], [0.6666666666666666, \"#ed7953\"], [0.7777777777777778, \"#fb9f3a\"], [0.8888888888888888, \"#fdca26\"], [1.0, \"#f0f921\"]], \"type\": \"heatmapgl\"}], \"histogram\": [{\"marker\": {\"colorbar\": {\"outlinewidth\": 0, \"ticks\": \"\"}}, \"type\": \"histogram\"}], \"histogram2d\": [{\"colorbar\": {\"outlinewidth\": 0, \"ticks\": \"\"}, \"colorscale\": [[0.0, \"#0d0887\"], [0.1111111111111111, \"#46039f\"], [0.2222222222222222, \"#7201a8\"], [0.3333333333333333, \"#9c179e\"], [0.4444444444444444, \"#bd3786\"], [0.5555555555555556, \"#d8576b\"], [0.6666666666666666, \"#ed7953\"], [0.7777777777777778, \"#fb9f3a\"], [0.8888888888888888, \"#fdca26\"], [1.0, \"#f0f921\"]], \"type\": \"histogram2d\"}], \"histogram2dcontour\": [{\"colorbar\": {\"outlinewidth\": 0, \"ticks\": \"\"}, \"colorscale\": [[0.0, \"#0d0887\"], [0.1111111111111111, \"#46039f\"], [0.2222222222222222, \"#7201a8\"], [0.3333333333333333, \"#9c179e\"], [0.4444444444444444, \"#bd3786\"], [0.5555555555555556, \"#d8576b\"], [0.6666666666666666, \"#ed7953\"], [0.7777777777777778, \"#fb9f3a\"], [0.8888888888888888, \"#fdca26\"], [1.0, \"#f0f921\"]], \"type\": \"histogram2dcontour\"}], \"mesh3d\": [{\"colorbar\": {\"outlinewidth\": 0, \"ticks\": \"\"}, \"type\": \"mesh3d\"}], \"parcoords\": [{\"line\": {\"colorbar\": {\"outlinewidth\": 0, \"ticks\": \"\"}}, \"type\": \"parcoords\"}], \"pie\": [{\"automargin\": true, \"type\": \"pie\"}], \"scatter\": [{\"marker\": {\"colorbar\": {\"outlinewidth\": 0, \"ticks\": \"\"}}, \"type\": \"scatter\"}], \"scatter3d\": [{\"line\": {\"colorbar\": {\"outlinewidth\": 0, \"ticks\": \"\"}}, \"marker\": {\"colorbar\": {\"outlinewidth\": 0, \"ticks\": \"\"}}, \"type\": \"scatter3d\"}], \"scattercarpet\": [{\"marker\": {\"colorbar\": {\"outlinewidth\": 0, \"ticks\": \"\"}}, \"type\": \"scattercarpet\"}], \"scattergeo\": [{\"marker\": {\"colorbar\": {\"outlinewidth\": 0, \"ticks\": \"\"}}, \"type\": \"scattergeo\"}], \"scattergl\": [{\"marker\": {\"colorbar\": {\"outlinewidth\": 0, \"ticks\": \"\"}}, \"type\": \"scattergl\"}], \"scattermapbox\": [{\"marker\": {\"colorbar\": {\"outlinewidth\": 0, \"ticks\": \"\"}}, \"type\": \"scattermapbox\"}], \"scatterpolar\": [{\"marker\": {\"colorbar\": {\"outlinewidth\": 0, \"ticks\": \"\"}}, \"type\": \"scatterpolar\"}], \"scatterpolargl\": [{\"marker\": {\"colorbar\": {\"outlinewidth\": 0, \"ticks\": \"\"}}, \"type\": \"scatterpolargl\"}], \"scatterternary\": [{\"marker\": {\"colorbar\": {\"outlinewidth\": 0, \"ticks\": \"\"}}, \"type\": \"scatterternary\"}], \"surface\": [{\"colorbar\": {\"outlinewidth\": 0, \"ticks\": \"\"}, \"colorscale\": [[0.0, \"#0d0887\"], [0.1111111111111111, \"#46039f\"], [0.2222222222222222, \"#7201a8\"], [0.3333333333333333, \"#9c179e\"], [0.4444444444444444, \"#bd3786\"], [0.5555555555555556, \"#d8576b\"], [0.6666666666666666, \"#ed7953\"], [0.7777777777777778, \"#fb9f3a\"], [0.8888888888888888, \"#fdca26\"], [1.0, \"#f0f921\"]], \"type\": \"surface\"}], \"table\": [{\"cells\": {\"fill\": {\"color\": \"#EBF0F8\"}, \"line\": {\"color\": \"white\"}}, \"header\": {\"fill\": {\"color\": \"#C8D4E3\"}, \"line\": {\"color\": \"white\"}}, \"type\": \"table\"}]}, \"layout\": {\"annotationdefaults\": {\"arrowcolor\": \"#2a3f5f\", \"arrowhead\": 0, \"arrowwidth\": 1}, \"coloraxis\": {\"colorbar\": {\"outlinewidth\": 0, \"ticks\": \"\"}}, \"colorscale\": {\"diverging\": [[0, \"#8e0152\"], [0.1, \"#c51b7d\"], [0.2, \"#de77ae\"], [0.3, \"#f1b6da\"], [0.4, \"#fde0ef\"], [0.5, \"#f7f7f7\"], [0.6, \"#e6f5d0\"], [0.7, \"#b8e186\"], [0.8, \"#7fbc41\"], [0.9, \"#4d9221\"], [1, \"#276419\"]], \"sequential\": [[0.0, \"#0d0887\"], [0.1111111111111111, \"#46039f\"], [0.2222222222222222, \"#7201a8\"], [0.3333333333333333, \"#9c179e\"], [0.4444444444444444, \"#bd3786\"], [0.5555555555555556, \"#d8576b\"], [0.6666666666666666, \"#ed7953\"], [0.7777777777777778, \"#fb9f3a\"], [0.8888888888888888, \"#fdca26\"], [1.0, \"#f0f921\"]], \"sequentialminus\": [[0.0, \"#0d0887\"], [0.1111111111111111, \"#46039f\"], [0.2222222222222222, \"#7201a8\"], [0.3333333333333333, \"#9c179e\"], [0.4444444444444444, \"#bd3786\"], [0.5555555555555556, \"#d8576b\"], [0.6666666666666666, \"#ed7953\"], [0.7777777777777778, \"#fb9f3a\"], [0.8888888888888888, \"#fdca26\"], [1.0, \"#f0f921\"]]}, \"colorway\": [\"#636efa\", \"#EF553B\", \"#00cc96\", \"#ab63fa\", \"#FFA15A\", \"#19d3f3\", \"#FF6692\", \"#B6E880\", \"#FF97FF\", \"#FECB52\"], \"font\": {\"color\": \"#2a3f5f\"}, \"geo\": {\"bgcolor\": \"white\", \"lakecolor\": \"white\", \"landcolor\": \"#E5ECF6\", \"showlakes\": true, \"showland\": true, \"subunitcolor\": \"white\"}, \"hoverlabel\": {\"align\": \"left\"}, \"hovermode\": \"closest\", \"mapbox\": {\"style\": \"light\"}, \"paper_bgcolor\": \"white\", \"plot_bgcolor\": \"#E5ECF6\", \"polar\": {\"angularaxis\": {\"gridcolor\": \"white\", \"linecolor\": \"white\", \"ticks\": \"\"}, \"bgcolor\": \"#E5ECF6\", \"radialaxis\": {\"gridcolor\": \"white\", \"linecolor\": \"white\", \"ticks\": \"\"}}, \"scene\": {\"xaxis\": {\"backgroundcolor\": \"#E5ECF6\", \"gridcolor\": \"white\", \"gridwidth\": 2, \"linecolor\": \"white\", \"showbackground\": true, \"ticks\": \"\", \"zerolinecolor\": \"white\"}, \"yaxis\": {\"backgroundcolor\": \"#E5ECF6\", \"gridcolor\": \"white\", \"gridwidth\": 2, \"linecolor\": \"white\", \"showbackground\": true, \"ticks\": \"\", \"zerolinecolor\": \"white\"}, \"zaxis\": {\"backgroundcolor\": \"#E5ECF6\", \"gridcolor\": \"white\", \"gridwidth\": 2, \"linecolor\": \"white\", \"showbackground\": true, \"ticks\": \"\", \"zerolinecolor\": \"white\"}}, \"shapedefaults\": {\"line\": {\"color\": \"#2a3f5f\"}}, \"ternary\": {\"aaxis\": {\"gridcolor\": \"white\", \"linecolor\": \"white\", \"ticks\": \"\"}, \"baxis\": {\"gridcolor\": \"white\", \"linecolor\": \"white\", \"ticks\": \"\"}, \"bgcolor\": \"#E5ECF6\", \"caxis\": {\"gridcolor\": \"white\", \"linecolor\": \"white\", \"ticks\": \"\"}}, \"title\": {\"x\": 0.05}, \"xaxis\": {\"automargin\": true, \"gridcolor\": \"white\", \"linecolor\": \"white\", \"ticks\": \"\", \"title\": {\"standoff\": 15}, \"zerolinecolor\": \"white\", \"zerolinewidth\": 2}, \"yaxis\": {\"automargin\": true, \"gridcolor\": \"white\", \"linecolor\": \"white\", \"ticks\": \"\", \"title\": {\"standoff\": 15}, \"zerolinecolor\": \"white\", \"zerolinewidth\": 2}}}, \"title\": {\"text\": \"Community Activity: Ibizagate related vs unrelated\"}, \"yaxis\": {\"title\": {\"text\": \"avg community out-degree\"}}},                        {\"responsive\": true}                    ).then(function(){\n",
       "                            \n",
       "var gd = document.getElementById('79731e67-df96-465b-abb2-82a2620c7cc5');\n",
       "var x = new MutationObserver(function (mutations, observer) {{\n",
       "        var display = window.getComputedStyle(gd).display;\n",
       "        if (!display || display === 'none') {{\n",
       "            console.log([gd, 'removed!']);\n",
       "            Plotly.purge(gd);\n",
       "            observer.disconnect();\n",
       "        }}\n",
       "}});\n",
       "\n",
       "// Listen for the removal of the full notebook cells\n",
       "var notebookContainer = gd.closest('#notebook-container');\n",
       "if (notebookContainer) {{\n",
       "    x.observe(notebookContainer, {childList: true});\n",
       "}}\n",
       "\n",
       "// Listen for the clearing of the current output cell\n",
       "var outputEl = gd.closest('.output');\n",
       "if (outputEl) {{\n",
       "    x.observe(outputEl, {childList: true});\n",
       "}}\n",
       "\n",
       "                        })                };                });            </script>        </div>"
      ]
     },
     "metadata": {},
     "output_type": "display_data"
    }
   ],
   "source": [
    "# visualize\n",
    "x = list(grouped_viz_df.index)\n",
    "y = list(grouped_viz_df['mean'])\n",
    "ix = list(grouped_irr_df.index)\n",
    "iy = list(grouped_irr_df['mean'])\n",
    "\n",
    "y_lower = list(grouped_viz_df['min'])\n",
    "y_upper = list(grouped_viz_df['max'])\n",
    "iy_lower = list(grouped_irr_df['min'])\n",
    "iy_upper = list(grouped_irr_df['max'])\n",
    "\n",
    "\n",
    "fig = go.Figure([\n",
    "    # means\n",
    "    go.Scatter(\n",
    "        x=x,\n",
    "        y=y,\n",
    "        line=dict(color='rgb(0,100,80)', shape='spline', smoothing=0.5),\n",
    "        mode='lines+markers+text',\n",
    "        name='related',\n",
    "        text=rel_titles\n",
    "    ),\n",
    "    go.Scatter(\n",
    "        x=ix,\n",
    "        y=iy,\n",
    "        line=dict(color='rgb(80,0,100)', shape='spline', smoothing=0.5),\n",
    "        mode='lines+markers+text',\n",
    "        name='unrelated',\n",
    "        opacity=0.5,\n",
    "        text=irr_titles\n",
    "    ),\n",
    "    \n",
    "    # means\n",
    "    go.Scatter(\n",
    "        x=x,\n",
    "        y=[np.mean(y)] * len(x),\n",
    "        line=dict(color='rgb(0,100,80)', dash='dot'),\n",
    "        mode='lines',\n",
    "        name='related mean',\n",
    "        opacity=0.5,\n",
    "    ),\n",
    "    go.Scatter(\n",
    "        x=x,\n",
    "        y=[np.mean(iy)] * len(x),\n",
    "        line=dict(color='rgb(80,0,100)', dash='dot'),\n",
    "        mode='lines',\n",
    "        name='unrelated mean',\n",
    "        opacity=0.5\n",
    "    ),\n",
    "    \n",
    "    # min/max bands\n",
    "    go.Scatter(\n",
    "        x=x+x[::-1], # x, then x reversed\n",
    "        y=y_upper+y_lower[::-1], # upper, then lower reversed\n",
    "        fill='toself',\n",
    "        fillcolor='rgba(0,100,80,0.2)',\n",
    "        line=dict(color='rgba(255,255,255,0)'),\n",
    "        hoverinfo='skip',\n",
    "        showlegend=False,\n",
    "        opacity=0.8\n",
    "    ),\n",
    "    go.Scatter(\n",
    "        x=ix+ix[::-1], # x, then x reversed\n",
    "        y=iy_upper+iy_lower[::-1], # upper, then lower reversed\n",
    "        fill='toself',\n",
    "        fillcolor='rgba(80,0,100,0.2)',\n",
    "        line=dict(color='rgba(255,255,255,0)'),\n",
    "        hoverinfo='skip',\n",
    "        showlegend=False,\n",
    "        opacity=0.2\n",
    "    )\n",
    "])\n",
    "\n",
    "fig.update_layout(\n",
    "    yaxis_title='avg community out-degree',\n",
    "    title='Community Activity: Ibizagate related vs unrelated',\n",
    ")\n",
    "\n",
    "fig.add_shape(\n",
    "    x0=\"2019-05-17\", x1=\"2019-05-17\", y0=0, y1=7,\n",
    "    fillcolor=\"LightSalmon\", \n",
    "    opacity=0.8,\n",
    "    layer=\"below\", \n",
    "    line_width=2\n",
    ")\n",
    "\n",
    "fig.update_traces(textposition='top center')\n",
    "\n",
    "fig.show()"
   ]
  },
  {
   "cell_type": "code",
   "execution_count": 28,
   "metadata": {},
   "outputs": [],
   "source": [
    "import pickle\n",
    "pickle.dump(ir_result, open('ir_result.p', 'wb'))"
   ]
  },
  {
   "cell_type": "raw",
   "metadata": {},
   "source": [
    "TODO next\n",
    "add relevant articles as points\n",
    "\n",
    "TODO\n",
    "double x axis"
   ]
  }
 ],
 "metadata": {
  "kernelspec": {
   "display_name": "Python 3",
   "language": "python",
   "name": "python3"
  },
  "language_info": {
   "codemirror_mode": {
    "name": "ipython",
    "version": 3
   },
   "file_extension": ".py",
   "mimetype": "text/x-python",
   "name": "python",
   "nbconvert_exporter": "python",
   "pygments_lexer": "ipython3",
   "version": "3.8.5"
  }
 },
 "nbformat": 4,
 "nbformat_minor": 4
}
